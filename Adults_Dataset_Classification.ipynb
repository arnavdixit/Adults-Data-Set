{
  "nbformat": 4,
  "nbformat_minor": 0,
  "metadata": {
    "kernelspec": {
      "display_name": "Python 3",
      "language": "python",
      "name": "python3"
    },
    "language_info": {
      "codemirror_mode": {
        "name": "ipython",
        "version": 3
      },
      "file_extension": ".py",
      "mimetype": "text/x-python",
      "name": "python",
      "nbconvert_exporter": "python",
      "pygments_lexer": "ipython3",
      "version": "3.7.3"
    },
    "colab": {
      "name": "Adults Dataset Classification.ipynb",
      "provenance": [],
      "collapsed_sections": []
    },
    "accelerator": "GPU"
  },
  "cells": [
    {
      "cell_type": "markdown",
      "metadata": {
        "id": "ljWpyrLYTJJD"
      },
      "source": [
        "## Importing Libraries"
      ]
    },
    {
      "cell_type": "code",
      "metadata": {
        "id": "G85Y3fRvO_1V"
      },
      "source": [
        "import numpy as np\n",
        "import pandas as pd\n",
        "import matplotlib.pyplot as plt\n",
        "import seaborn as sns\n",
        "from sklearn.linear_model import LogisticRegression\n",
        "from sklearn.neighbors import KNeighborsClassifier\n",
        "from sklearn.svm import SVC\n",
        "from sklearn.naive_bayes import GaussianNB\n",
        "from sklearn.tree import DecisionTreeClassifier\n",
        "from sklearn.ensemble import RandomForestClassifier\n",
        "from sklearn.preprocessing import OneHotEncoder\n",
        "from sklearn.preprocessing import LabelEncoder\n",
        "from sklearn.compose import ColumnTransformer\n",
        "from sklearn.impute import SimpleImputer\n",
        "from sklearn.metrics import confusion_matrix,accuracy_score,f1_score,roc_auc_score\n",
        "from sklearn.model_selection import train_test_split,cross_val_score, RandomizedSearchCV\n",
        "from sklearn.preprocessing import MinMaxScaler\n",
        "from sklearn.preprocessing import StandardScaler\n",
        "from scipy.stats import ttest_ind, ttest_rel\n",
        "from scipy import stats\n",
        "import random\n",
        "from scipy.stats import chi2_contingency\n",
        "from scipy.stats import chi2\n",
        "import xgboost as xgb\n",
        "import warnings\n",
        "warnings.filterwarnings('ignore')\n",
        "%matplotlib inline"
      ],
      "execution_count": 318,
      "outputs": []
    },
    {
      "cell_type": "markdown",
      "metadata": {
        "id": "P5w3dCoCTT_c"
      },
      "source": [
        "## Loading Dataset"
      ]
    },
    {
      "cell_type": "code",
      "metadata": {
        "id": "d-5rS0yuO_1Y"
      },
      "source": [
        "dataset = pd.read_csv('adult.csv')"
      ],
      "execution_count": 319,
      "outputs": []
    },
    {
      "cell_type": "code",
      "metadata": {
        "colab": {
          "base_uri": "https://localhost:8080/",
          "height": 371
        },
        "id": "cCEOW46FO_1Z",
        "outputId": "3c5140c4-f9ed-4c84-c90a-12a07dcfbc2e"
      },
      "source": [
        "dataset.head()"
      ],
      "execution_count": 320,
      "outputs": [
        {
          "output_type": "execute_result",
          "data": {
            "text/html": [
              "<div>\n",
              "<style scoped>\n",
              "    .dataframe tbody tr th:only-of-type {\n",
              "        vertical-align: middle;\n",
              "    }\n",
              "\n",
              "    .dataframe tbody tr th {\n",
              "        vertical-align: top;\n",
              "    }\n",
              "\n",
              "    .dataframe thead th {\n",
              "        text-align: right;\n",
              "    }\n",
              "</style>\n",
              "<table border=\"1\" class=\"dataframe\">\n",
              "  <thead>\n",
              "    <tr style=\"text-align: right;\">\n",
              "      <th></th>\n",
              "      <th>age</th>\n",
              "      <th>workclass</th>\n",
              "      <th>fnlwgt</th>\n",
              "      <th>education</th>\n",
              "      <th>education-num</th>\n",
              "      <th>marital-status</th>\n",
              "      <th>occupation</th>\n",
              "      <th>relationship</th>\n",
              "      <th>race</th>\n",
              "      <th>sex</th>\n",
              "      <th>capital-gain</th>\n",
              "      <th>capital-loss</th>\n",
              "      <th>hours-per-week</th>\n",
              "      <th>native-country</th>\n",
              "      <th>Income</th>\n",
              "    </tr>\n",
              "  </thead>\n",
              "  <tbody>\n",
              "    <tr>\n",
              "      <th>0</th>\n",
              "      <td>39</td>\n",
              "      <td>State-gov</td>\n",
              "      <td>77516</td>\n",
              "      <td>Bachelors</td>\n",
              "      <td>13</td>\n",
              "      <td>Never-married</td>\n",
              "      <td>Adm-clerical</td>\n",
              "      <td>Not-in-family</td>\n",
              "      <td>White</td>\n",
              "      <td>Male</td>\n",
              "      <td>2174</td>\n",
              "      <td>0</td>\n",
              "      <td>40</td>\n",
              "      <td>United-States</td>\n",
              "      <td>&lt;=50K</td>\n",
              "    </tr>\n",
              "    <tr>\n",
              "      <th>1</th>\n",
              "      <td>50</td>\n",
              "      <td>Self-emp-not-inc</td>\n",
              "      <td>83311</td>\n",
              "      <td>Bachelors</td>\n",
              "      <td>13</td>\n",
              "      <td>Married-civ-spouse</td>\n",
              "      <td>Exec-managerial</td>\n",
              "      <td>Husband</td>\n",
              "      <td>White</td>\n",
              "      <td>Male</td>\n",
              "      <td>0</td>\n",
              "      <td>0</td>\n",
              "      <td>13</td>\n",
              "      <td>United-States</td>\n",
              "      <td>&lt;=50K</td>\n",
              "    </tr>\n",
              "    <tr>\n",
              "      <th>2</th>\n",
              "      <td>38</td>\n",
              "      <td>Private</td>\n",
              "      <td>215646</td>\n",
              "      <td>HS-grad</td>\n",
              "      <td>9</td>\n",
              "      <td>Divorced</td>\n",
              "      <td>Handlers-cleaners</td>\n",
              "      <td>Not-in-family</td>\n",
              "      <td>White</td>\n",
              "      <td>Male</td>\n",
              "      <td>0</td>\n",
              "      <td>0</td>\n",
              "      <td>40</td>\n",
              "      <td>United-States</td>\n",
              "      <td>&lt;=50K</td>\n",
              "    </tr>\n",
              "    <tr>\n",
              "      <th>3</th>\n",
              "      <td>53</td>\n",
              "      <td>Private</td>\n",
              "      <td>234721</td>\n",
              "      <td>11th</td>\n",
              "      <td>7</td>\n",
              "      <td>Married-civ-spouse</td>\n",
              "      <td>Handlers-cleaners</td>\n",
              "      <td>Husband</td>\n",
              "      <td>Black</td>\n",
              "      <td>Male</td>\n",
              "      <td>0</td>\n",
              "      <td>0</td>\n",
              "      <td>40</td>\n",
              "      <td>United-States</td>\n",
              "      <td>&lt;=50K</td>\n",
              "    </tr>\n",
              "    <tr>\n",
              "      <th>4</th>\n",
              "      <td>28</td>\n",
              "      <td>Private</td>\n",
              "      <td>338409</td>\n",
              "      <td>Bachelors</td>\n",
              "      <td>13</td>\n",
              "      <td>Married-civ-spouse</td>\n",
              "      <td>Prof-specialty</td>\n",
              "      <td>Wife</td>\n",
              "      <td>Black</td>\n",
              "      <td>Female</td>\n",
              "      <td>0</td>\n",
              "      <td>0</td>\n",
              "      <td>40</td>\n",
              "      <td>Cuba</td>\n",
              "      <td>&lt;=50K</td>\n",
              "    </tr>\n",
              "  </tbody>\n",
              "</table>\n",
              "</div>"
            ],
            "text/plain": [
              "   age          workclass  fnlwgt  ... hours-per-week  native-country  Income\n",
              "0   39          State-gov   77516  ...             40   United-States   <=50K\n",
              "1   50   Self-emp-not-inc   83311  ...             13   United-States   <=50K\n",
              "2   38            Private  215646  ...             40   United-States   <=50K\n",
              "3   53            Private  234721  ...             40   United-States   <=50K\n",
              "4   28            Private  338409  ...             40            Cuba   <=50K\n",
              "\n",
              "[5 rows x 15 columns]"
            ]
          },
          "metadata": {
            "tags": []
          },
          "execution_count": 320
        }
      ]
    },
    {
      "cell_type": "code",
      "metadata": {
        "colab": {
          "base_uri": "https://localhost:8080/"
        },
        "id": "dMN_L0ahO_1b",
        "outputId": "43b68a50-04cb-4bd8-da0a-a4a7aeaa6f9f"
      },
      "source": [
        "dataset.shape"
      ],
      "execution_count": 321,
      "outputs": [
        {
          "output_type": "execute_result",
          "data": {
            "text/plain": [
              "(32561, 15)"
            ]
          },
          "metadata": {
            "tags": []
          },
          "execution_count": 321
        }
      ]
    },
    {
      "cell_type": "markdown",
      "metadata": {
        "id": "cyh7UM-ITYSj"
      },
      "source": [
        "Removing Empty spaces from the dataset"
      ]
    },
    {
      "cell_type": "code",
      "metadata": {
        "id": "JM_XeMXLO_1b"
      },
      "source": [
        "dataset['workclass'] = dataset['workclass'].str.replace(\" \",\"\")\n",
        "dataset['marital-status'] = dataset['marital-status'].str.replace(\" \",\"\")\n",
        "dataset['occupation'] = dataset['occupation'].str.replace(\" \",\"\")\n",
        "dataset['race'] = dataset['race'].str.replace(\" \",\"\")\n",
        "dataset['native-country'] = dataset['native-country'].str.replace(\" \",\"\")"
      ],
      "execution_count": 322,
      "outputs": []
    },
    {
      "cell_type": "markdown",
      "metadata": {
        "id": "WGpdwjzjTpbi"
      },
      "source": [
        "Handling Null Values"
      ]
    },
    {
      "cell_type": "code",
      "metadata": {
        "colab": {
          "base_uri": "https://localhost:8080/"
        },
        "id": "kMSnCuCgTov6",
        "outputId": "8643625c-2a9f-45f2-ea44-026cd6101575"
      },
      "source": [
        "dataset.isnull().sum()"
      ],
      "execution_count": 323,
      "outputs": [
        {
          "output_type": "execute_result",
          "data": {
            "text/plain": [
              "age               0\n",
              "workclass         0\n",
              "fnlwgt            0\n",
              "education         0\n",
              "education-num     0\n",
              "marital-status    0\n",
              "occupation        0\n",
              "relationship      0\n",
              "race              0\n",
              "sex               0\n",
              "capital-gain      0\n",
              "capital-loss      0\n",
              "hours-per-week    0\n",
              "native-country    0\n",
              "Income            0\n",
              "dtype: int64"
            ]
          },
          "metadata": {
            "tags": []
          },
          "execution_count": 323
        }
      ]
    },
    {
      "cell_type": "markdown",
      "metadata": {
        "id": "B2zC22FiUCFm"
      },
      "source": [
        "We find no Null values but upon further investigation, I find '?' in a few features. \n",
        "\n",
        "I decide to handle them with the most frequent values in the respective features."
      ]
    },
    {
      "cell_type": "code",
      "metadata": {
        "id": "R-JrT5qmO_1c"
      },
      "source": [
        "attrib, counts = np.unique(dataset['workclass'],return_counts=True)\n",
        "most_freq_attrib = attrib[np.argmax(counts,axis=0)]\n",
        "dataset['workclass'][dataset['workclass'] == '?'] = most_freq_attrib"
      ],
      "execution_count": 324,
      "outputs": []
    },
    {
      "cell_type": "code",
      "metadata": {
        "id": "V3J9hHUhO_1c"
      },
      "source": [
        "attrib, counts = np.unique(dataset['occupation'], return_counts=True)\n",
        "most_freq_attrib = attrib[np.argmax(counts,axis=0)]\n",
        "dataset['occupation'][dataset['occupation'] == '?'] = most_freq_attrib"
      ],
      "execution_count": 325,
      "outputs": []
    },
    {
      "cell_type": "code",
      "metadata": {
        "id": "xfQkWpLkO_1d"
      },
      "source": [
        "attrib, counts = np.unique(dataset['native-country'], return_counts=True)\n",
        "most_freq_attrib = attrib[np.argmax(counts,axis=0)]\n",
        "dataset['native-country'][dataset['native-country'] == '?'] = most_freq_attrib"
      ],
      "execution_count": 326,
      "outputs": []
    },
    {
      "cell_type": "markdown",
      "metadata": {
        "id": "EdbNsKo7UdfA"
      },
      "source": [
        "### Converting target variable into 0s and 1s"
      ]
    },
    {
      "cell_type": "code",
      "metadata": {
        "id": "Q9EXjEGoO_1e"
      },
      "source": [
        "income_map = {' <=50K':0, ' >50K':1}\n",
        "dataset['Income'] = dataset['Income'].map(income_map)"
      ],
      "execution_count": 327,
      "outputs": []
    },
    {
      "cell_type": "code",
      "metadata": {
        "id": "s5FMyStjO_1f"
      },
      "source": [
        "data_num = dataset.drop([\"education-num\",\"Income\"], axis=1)"
      ],
      "execution_count": 328,
      "outputs": []
    },
    {
      "cell_type": "code",
      "metadata": {
        "colab": {
          "base_uri": "https://localhost:8080/",
          "height": 295
        },
        "id": "z2y8bxv0O_1g",
        "outputId": "dbd2476b-e216-494b-d3c5-9b61208aaa86"
      },
      "source": [
        "data_num.describe()"
      ],
      "execution_count": 329,
      "outputs": [
        {
          "output_type": "execute_result",
          "data": {
            "text/html": [
              "<div>\n",
              "<style scoped>\n",
              "    .dataframe tbody tr th:only-of-type {\n",
              "        vertical-align: middle;\n",
              "    }\n",
              "\n",
              "    .dataframe tbody tr th {\n",
              "        vertical-align: top;\n",
              "    }\n",
              "\n",
              "    .dataframe thead th {\n",
              "        text-align: right;\n",
              "    }\n",
              "</style>\n",
              "<table border=\"1\" class=\"dataframe\">\n",
              "  <thead>\n",
              "    <tr style=\"text-align: right;\">\n",
              "      <th></th>\n",
              "      <th>age</th>\n",
              "      <th>fnlwgt</th>\n",
              "      <th>capital-gain</th>\n",
              "      <th>capital-loss</th>\n",
              "      <th>hours-per-week</th>\n",
              "    </tr>\n",
              "  </thead>\n",
              "  <tbody>\n",
              "    <tr>\n",
              "      <th>count</th>\n",
              "      <td>32561.000000</td>\n",
              "      <td>3.256100e+04</td>\n",
              "      <td>32561.000000</td>\n",
              "      <td>32561.000000</td>\n",
              "      <td>32561.000000</td>\n",
              "    </tr>\n",
              "    <tr>\n",
              "      <th>mean</th>\n",
              "      <td>38.581647</td>\n",
              "      <td>1.897784e+05</td>\n",
              "      <td>1077.648844</td>\n",
              "      <td>87.303830</td>\n",
              "      <td>40.437456</td>\n",
              "    </tr>\n",
              "    <tr>\n",
              "      <th>std</th>\n",
              "      <td>13.640433</td>\n",
              "      <td>1.055500e+05</td>\n",
              "      <td>7385.292085</td>\n",
              "      <td>402.960219</td>\n",
              "      <td>12.347429</td>\n",
              "    </tr>\n",
              "    <tr>\n",
              "      <th>min</th>\n",
              "      <td>17.000000</td>\n",
              "      <td>1.228500e+04</td>\n",
              "      <td>0.000000</td>\n",
              "      <td>0.000000</td>\n",
              "      <td>1.000000</td>\n",
              "    </tr>\n",
              "    <tr>\n",
              "      <th>25%</th>\n",
              "      <td>28.000000</td>\n",
              "      <td>1.178270e+05</td>\n",
              "      <td>0.000000</td>\n",
              "      <td>0.000000</td>\n",
              "      <td>40.000000</td>\n",
              "    </tr>\n",
              "    <tr>\n",
              "      <th>50%</th>\n",
              "      <td>37.000000</td>\n",
              "      <td>1.783560e+05</td>\n",
              "      <td>0.000000</td>\n",
              "      <td>0.000000</td>\n",
              "      <td>40.000000</td>\n",
              "    </tr>\n",
              "    <tr>\n",
              "      <th>75%</th>\n",
              "      <td>48.000000</td>\n",
              "      <td>2.370510e+05</td>\n",
              "      <td>0.000000</td>\n",
              "      <td>0.000000</td>\n",
              "      <td>45.000000</td>\n",
              "    </tr>\n",
              "    <tr>\n",
              "      <th>max</th>\n",
              "      <td>90.000000</td>\n",
              "      <td>1.484705e+06</td>\n",
              "      <td>99999.000000</td>\n",
              "      <td>4356.000000</td>\n",
              "      <td>99.000000</td>\n",
              "    </tr>\n",
              "  </tbody>\n",
              "</table>\n",
              "</div>"
            ],
            "text/plain": [
              "                age        fnlwgt  capital-gain  capital-loss  hours-per-week\n",
              "count  32561.000000  3.256100e+04  32561.000000  32561.000000    32561.000000\n",
              "mean      38.581647  1.897784e+05   1077.648844     87.303830       40.437456\n",
              "std       13.640433  1.055500e+05   7385.292085    402.960219       12.347429\n",
              "min       17.000000  1.228500e+04      0.000000      0.000000        1.000000\n",
              "25%       28.000000  1.178270e+05      0.000000      0.000000       40.000000\n",
              "50%       37.000000  1.783560e+05      0.000000      0.000000       40.000000\n",
              "75%       48.000000  2.370510e+05      0.000000      0.000000       45.000000\n",
              "max       90.000000  1.484705e+06  99999.000000   4356.000000       99.000000"
            ]
          },
          "metadata": {
            "tags": []
          },
          "execution_count": 329
        }
      ]
    },
    {
      "cell_type": "code",
      "metadata": {
        "colab": {
          "base_uri": "https://localhost:8080/",
          "height": 172
        },
        "id": "0kAETV8WO_1g",
        "outputId": "88e6ae12-7d3e-464a-af1b-ade01d034c6c"
      },
      "source": [
        "dataset.describe(include=\"O\")"
      ],
      "execution_count": 330,
      "outputs": [
        {
          "output_type": "execute_result",
          "data": {
            "text/html": [
              "<div>\n",
              "<style scoped>\n",
              "    .dataframe tbody tr th:only-of-type {\n",
              "        vertical-align: middle;\n",
              "    }\n",
              "\n",
              "    .dataframe tbody tr th {\n",
              "        vertical-align: top;\n",
              "    }\n",
              "\n",
              "    .dataframe thead th {\n",
              "        text-align: right;\n",
              "    }\n",
              "</style>\n",
              "<table border=\"1\" class=\"dataframe\">\n",
              "  <thead>\n",
              "    <tr style=\"text-align: right;\">\n",
              "      <th></th>\n",
              "      <th>workclass</th>\n",
              "      <th>education</th>\n",
              "      <th>marital-status</th>\n",
              "      <th>occupation</th>\n",
              "      <th>relationship</th>\n",
              "      <th>race</th>\n",
              "      <th>sex</th>\n",
              "      <th>native-country</th>\n",
              "    </tr>\n",
              "  </thead>\n",
              "  <tbody>\n",
              "    <tr>\n",
              "      <th>count</th>\n",
              "      <td>32561</td>\n",
              "      <td>32561</td>\n",
              "      <td>32561</td>\n",
              "      <td>32561</td>\n",
              "      <td>32561</td>\n",
              "      <td>32561</td>\n",
              "      <td>32561</td>\n",
              "      <td>32561</td>\n",
              "    </tr>\n",
              "    <tr>\n",
              "      <th>unique</th>\n",
              "      <td>8</td>\n",
              "      <td>16</td>\n",
              "      <td>7</td>\n",
              "      <td>14</td>\n",
              "      <td>6</td>\n",
              "      <td>5</td>\n",
              "      <td>2</td>\n",
              "      <td>41</td>\n",
              "    </tr>\n",
              "    <tr>\n",
              "      <th>top</th>\n",
              "      <td>Private</td>\n",
              "      <td>HS-grad</td>\n",
              "      <td>Married-civ-spouse</td>\n",
              "      <td>Prof-specialty</td>\n",
              "      <td>Husband</td>\n",
              "      <td>White</td>\n",
              "      <td>Male</td>\n",
              "      <td>United-States</td>\n",
              "    </tr>\n",
              "    <tr>\n",
              "      <th>freq</th>\n",
              "      <td>24532</td>\n",
              "      <td>10501</td>\n",
              "      <td>14976</td>\n",
              "      <td>5983</td>\n",
              "      <td>13193</td>\n",
              "      <td>27816</td>\n",
              "      <td>21790</td>\n",
              "      <td>29753</td>\n",
              "    </tr>\n",
              "  </tbody>\n",
              "</table>\n",
              "</div>"
            ],
            "text/plain": [
              "       workclass education      marital-status  ...   race    sex native-country\n",
              "count      32561     32561               32561  ...  32561  32561          32561\n",
              "unique         8        16                   7  ...      5      2             41\n",
              "top      Private   HS-grad  Married-civ-spouse  ...  White   Male  United-States\n",
              "freq       24532     10501               14976  ...  27816  21790          29753\n",
              "\n",
              "[4 rows x 8 columns]"
            ]
          },
          "metadata": {
            "tags": []
          },
          "execution_count": 330
        }
      ]
    },
    {
      "cell_type": "markdown",
      "metadata": {
        "id": "eOGIPqxbO_1h"
      },
      "source": [
        "# UNIVARIATE ANALYSIS"
      ]
    },
    {
      "cell_type": "markdown",
      "metadata": {
        "id": "F3BW6D6WO_1h"
      },
      "source": [
        "### AGE"
      ]
    },
    {
      "cell_type": "code",
      "metadata": {
        "colab": {
          "base_uri": "https://localhost:8080/",
          "height": 500
        },
        "id": "crdOXcF8O_1h",
        "outputId": "975562cb-424d-470c-da54-7915411b6a4f"
      },
      "source": [
        "dataset['age'].hist(figsize=(8,8))"
      ],
      "execution_count": 331,
      "outputs": [
        {
          "output_type": "execute_result",
          "data": {
            "text/plain": [
              "<matplotlib.axes._subplots.AxesSubplot at 0x7fad010e0210>"
            ]
          },
          "metadata": {
            "tags": []
          },
          "execution_count": 331
        },
        {
          "output_type": "display_data",
          "data": {
            "image/png": "[encoded data removed]",
            "text/plain": [
              "<Figure size 576x576 with 1 Axes>"
            ]
          },
          "metadata": {
            "tags": [],
            "needs_background": "light"
          }
        }
      ]
    },
    {
      "cell_type": "markdown",
      "metadata": {
        "id": "fX_VrxJIa2Ms"
      },
      "source": [
        "The above histogram shows that :\n",
        "\n",
        "\n",
        "\n",
        "*   \"age\" attribute is not symmetric.\n",
        "*   It is right-skewed(But this is totally fine as younger adult earn wages not the older ones)\n",
        "\n",
        "\n"
      ]
    },
    {
      "cell_type": "markdown",
      "metadata": {
        "id": "gbQxqSXdO_1i"
      },
      "source": [
        "### HOURS PER WEEK"
      ]
    },
    {
      "cell_type": "code",
      "metadata": {
        "colab": {
          "base_uri": "https://localhost:8080/",
          "height": 500
        },
        "id": "t6BvcHSmO_1i",
        "outputId": "d8768d00-d2aa-483c-c7e3-86952b3e784a"
      },
      "source": [
        "dataset['hours-per-week'].hist(figsize=(8,8))"
      ],
      "execution_count": 332,
      "outputs": [
        {
          "output_type": "execute_result",
          "data": {
            "text/plain": [
              "<matplotlib.axes._subplots.AxesSubplot at 0x7fad0162e690>"
            ]
          },
          "metadata": {
            "tags": []
          },
          "execution_count": 332
        },
        {
          "output_type": "display_data",
          "data": {
            "image/png": "[encoded data removed]",
            "text/plain": [
              "<Figure size 576x576 with 1 Axes>"
            ]
          },
          "metadata": {
            "tags": [],
            "needs_background": "light"
          }
        }
      ]
    },
    {
      "cell_type": "markdown",
      "metadata": {
        "id": "D6h-U3AMbOAQ"
      },
      "source": [
        "This histogram of \"hours-per-week\" shows that:\n",
        "\n",
        "\n",
        "\n",
        "*   Most people work 30-40 hours per week, they are roughly 27,000 people.\n",
        "*   75 percentage of the people spend 45 or less working hours per week.\n",
        "\n"
      ]
    },
    {
      "cell_type": "markdown",
      "metadata": {
        "id": "FY76t3avO_1i"
      },
      "source": [
        "### FNLWGT"
      ]
    },
    {
      "cell_type": "code",
      "metadata": {
        "colab": {
          "base_uri": "https://localhost:8080/",
          "height": 514
        },
        "id": "i-a3GFfHO_1i",
        "outputId": "25e4052d-8dbb-4f7c-e4e4-2cf534829997"
      },
      "source": [
        "dataset['fnlwgt'].hist(figsize=(8,8))"
      ],
      "execution_count": 333,
      "outputs": [
        {
          "output_type": "execute_result",
          "data": {
            "text/plain": [
              "<matplotlib.axes._subplots.AxesSubplot at 0x7fad01770fd0>"
            ]
          },
          "metadata": {
            "tags": []
          },
          "execution_count": 333
        },
        {
          "output_type": "display_data",
          "data": {
            "image/png": "[encoded data removed]",
            "text/plain": [
              "<Figure size 576x576 with 1 Axes>"
            ]
          },
          "metadata": {
            "tags": [],
            "needs_background": "light"
          }
        }
      ]
    },
    {
      "cell_type": "markdown",
      "metadata": {
        "id": "qsmO8xDlbXui"
      },
      "source": [
        "The above histogram shows that :\n",
        "\n",
        "\n",
        "\n",
        "*   This is the sampling weight corresponding to the observations.\n",
        "*   The distribution of finalweight seems to be rightly skewed since mean(189664.1) is greater than median(178144.5).\n",
        "\n"
      ]
    },
    {
      "cell_type": "markdown",
      "metadata": {
        "id": "RKWGUj1wO_1j"
      },
      "source": [
        "### CAPITAL-GAIN"
      ]
    },
    {
      "cell_type": "code",
      "metadata": {
        "colab": {
          "base_uri": "https://localhost:8080/",
          "height": 500
        },
        "id": "NbFvkHL0O_1j",
        "outputId": "ed948755-0703-4acf-b6a9-39a14892cce2"
      },
      "source": [
        "dataset['capital-gain'].hist(figsize=(8,8))"
      ],
      "execution_count": 334,
      "outputs": [
        {
          "output_type": "execute_result",
          "data": {
            "text/plain": [
              "<matplotlib.axes._subplots.AxesSubplot at 0x7fad016fbe50>"
            ]
          },
          "metadata": {
            "tags": []
          },
          "execution_count": 334
        },
        {
          "output_type": "display_data",
          "data": {
            "image/png": "[encoded data removed]",
            "text/plain": [
              "<Figure size 576x576 with 1 Axes>"
            ]
          },
          "metadata": {
            "tags": [],
            "needs_background": "light"
          }
        }
      ]
    },
    {
      "cell_type": "markdown",
      "metadata": {
        "id": "YlWJOa3ddm7J"
      },
      "source": [
        "\n",
        "\n",
        "*   This histogram shows that most of the \"capital-gain\" values are centered on 0 and few on 10k and 99k.\n",
        "*   capital-gain shows that either a person has no gain or has gain of very large amount(10k or 99k).\n",
        "\n"
      ]
    },
    {
      "cell_type": "markdown",
      "metadata": {
        "id": "Zm0L51IAO_1j"
      },
      "source": [
        "### CAPITAL-LOSS"
      ]
    },
    {
      "cell_type": "code",
      "metadata": {
        "colab": {
          "base_uri": "https://localhost:8080/",
          "height": 500
        },
        "id": "C_96y7xoO_1j",
        "outputId": "6086ce65-8699-4b89-be4d-5b3039b29e7e"
      },
      "source": [
        "dataset['capital-loss'].hist(figsize=(8,8))"
      ],
      "execution_count": 335,
      "outputs": [
        {
          "output_type": "execute_result",
          "data": {
            "text/plain": [
              "<matplotlib.axes._subplots.AxesSubplot at 0x7fad01f43990>"
            ]
          },
          "metadata": {
            "tags": []
          },
          "execution_count": 335
        },
        {
          "output_type": "display_data",
          "data": {
            "image/png": "[encoded data removed]",
            "text/plain": [
              "<Figure size 576x576 with 1 Axes>"
            ]
          },
          "metadata": {
            "tags": [],
            "needs_background": "light"
          }
        }
      ]
    },
    {
      "cell_type": "markdown",
      "metadata": {
        "id": "QkQvHsyLdvUb"
      },
      "source": [
        "\n",
        "\n",
        "*   This histogram shows that most of the \"capital-loss\" values are centered on 0 and only few are non zero(2282).\n",
        "*   This attribute is similar to the capital-gain i.e. most of the values are centered on 0.\n",
        "\n"
      ]
    },
    {
      "cell_type": "code",
      "metadata": {
        "colab": {
          "base_uri": "https://localhost:8080/",
          "height": 400
        },
        "id": "L2P0bskCO_1k",
        "outputId": "f4f8a46c-bed8-47fa-8a90-445216354b90"
      },
      "source": [
        "sns.relplot('capital-gain','capital-loss',data = dataset)"
      ],
      "execution_count": 336,
      "outputs": [
        {
          "output_type": "execute_result",
          "data": {
            "text/plain": [
              "<seaborn.axisgrid.FacetGrid at 0x7fad01fbf590>"
            ]
          },
          "metadata": {
            "tags": []
          },
          "execution_count": 336
        },
        {
          "output_type": "display_data",
          "data": {
            "image/png": "[encoded data removed]",
            "text/plain": [
              "<Figure size 360x360 with 1 Axes>"
            ]
          },
          "metadata": {
            "tags": [],
            "needs_background": "light"
          }
        }
      ]
    },
    {
      "cell_type": "markdown",
      "metadata": {
        "id": "FYN73Jl5d350"
      },
      "source": [
        "\n",
        "\n",
        "*   If capital.gain is zero there is possibility of capital loss being high or above zero.\n",
        "*   If capital loss is zero there is possibility of capital.gain being high or above zero.\n",
        "\n"
      ]
    },
    {
      "cell_type": "markdown",
      "metadata": {
        "id": "LCRcipdAO_1k"
      },
      "source": [
        "### WORKCLASS"
      ]
    },
    {
      "cell_type": "code",
      "metadata": {
        "colab": {
          "base_uri": "https://localhost:8080/",
          "height": 497
        },
        "id": "A3u5xDfHO_1k",
        "outputId": "ea853c81-a81e-4589-ec3b-9f23b3314088"
      },
      "source": [
        "plt.figure(figsize=(12,8))\n",
        "total = float(len(dataset['Income']))\n",
        "ax = sns.countplot(x='workclass',data=dataset)\n",
        "for p in ax.patches:\n",
        "    height = p.get_height()\n",
        "    ax.text(p.get_x()+p.get_width()/2.,\n",
        "            height + 3,\n",
        "            '{:1.2f}'.format((height/total)*100),\n",
        "            ha=\"center\")"
      ],
      "execution_count": 337,
      "outputs": [
        {
          "output_type": "display_data",
          "data": {
            "image/png": "[encoded data removed]",
            "text/plain": [
              "<Figure size 864x576 with 1 Axes>"
            ]
          },
          "metadata": {
            "tags": [],
            "needs_background": "light"
          }
        }
      ]
    },
    {
      "cell_type": "markdown",
      "metadata": {
        "id": "a2O9pgEmd1qG"
      },
      "source": [
        "\n",
        "\n",
        "*   There are 8 unique categories present in the worclass attribute.\n",
        "\n",
        "*   Most of them belong to the private workclass(36705) i.e. 75.15%.\n",
        "*   There is huge imbalance in the categories of workclass attribute.\n",
        "\n"
      ]
    },
    {
      "cell_type": "markdown",
      "metadata": {
        "id": "gIh3-UP2O_1k"
      },
      "source": [
        "### EDUCATION"
      ]
    },
    {
      "cell_type": "code",
      "metadata": {
        "colab": {
          "base_uri": "https://localhost:8080/",
          "height": 469
        },
        "id": "2e4SPLMeO_1k",
        "outputId": "150cfd73-3033-4471-aa35-a355dc61ef55"
      },
      "source": [
        "plt.figure(figsize=(20,8))\n",
        "total = float(len(dataset['Income']))\n",
        "ax = sns.countplot(x = 'education', data=dataset)\n",
        "for p in ax.patches:\n",
        "    height = p.get_height()\n",
        "    ax.text(p.get_x() + p.get_width()/2.,\n",
        "           height +3,\n",
        "           '{:1.2f}'.format((height/total)*100),\n",
        "           ha=\"center\")"
      ],
      "execution_count": 338,
      "outputs": [
        {
          "output_type": "display_data",
          "data": {
            "image/png": "[encoded data removed]",
            "text/plain": [
              "<Figure size 1440x576 with 1 Axes>"
            ]
          },
          "metadata": {
            "tags": [],
            "needs_background": "light"
          }
        }
      ]
    },
    {
      "cell_type": "markdown",
      "metadata": {
        "id": "iAzGNsU8iao4"
      },
      "source": [
        "\n",
        "\n",
        "*   There are 16 unique categories present in the education attribute.\n",
        "\n",
        "*   Hs-grad has 32.32% of all the education attribute.\n",
        "*   Pre-school has minimum samples i.e. 83.\n",
        "\n",
        "\n"
      ]
    },
    {
      "cell_type": "markdown",
      "metadata": {
        "id": "O5qDBW3qO_1l"
      },
      "source": [
        "### MARITAL-STATUS"
      ]
    },
    {
      "cell_type": "code",
      "metadata": {
        "colab": {
          "base_uri": "https://localhost:8080/",
          "height": 497
        },
        "id": "eyOivuuUO_1l",
        "outputId": "f90b3dea-86b3-4c00-8b54-233b658fe681"
      },
      "source": [
        "plt.figure(figsize=(15,8))\n",
        "total = float(len(dataset['Income']))\n",
        "ax = sns.countplot(x='marital-status',data=dataset)\n",
        "for p in ax.patches:\n",
        "    height = p.get_height()\n",
        "    ax.text(p.get_x() + p.get_width()/2.,\n",
        "           height + 3,\n",
        "           '{:1.2f}'.format((height/total)*100),\n",
        "           ha=\"center\")"
      ],
      "execution_count": 339,
      "outputs": [
        {
          "output_type": "display_data",
          "data": {
            "image/png": "[encoded data removed]",
            "text/plain": [
              "<Figure size 1080x576 with 1 Axes>"
            ]
          },
          "metadata": {
            "tags": [],
            "needs_background": "light"
          }
        }
      ]
    },
    {
      "cell_type": "markdown",
      "metadata": {
        "id": "HQlYISHfii8D"
      },
      "source": [
        "\n",
        "\n",
        "*   This marital-status attribute has 7 unique categories.\n",
        "\n",
        "*   Two of them are dominate over other categories(these are Never-married(33%) and married-civ-spouse(45.82%)\n",
        "*   Married-civ-spouse has maximum number of samples.\n",
        "\n"
      ]
    },
    {
      "cell_type": "markdown",
      "metadata": {
        "id": "z0EXLBnqO_1l"
      },
      "source": [
        "### OCCUPATION"
      ]
    },
    {
      "cell_type": "code",
      "metadata": {
        "colab": {
          "base_uri": "https://localhost:8080/",
          "height": 384
        },
        "id": "cVvnzx0FO_1l",
        "outputId": "74ba0678-c701-4b9d-9627-d56f6e368845"
      },
      "source": [
        "plt.figure(figsize=(25,8))\n",
        "total=float(len(dataset['Income']))\n",
        "ax = sns.countplot(x='occupation',data=dataset)\n",
        "for p in ax.patches:\n",
        "    height = p.get_height()\n",
        "    ax.text(p.get_x() + p.get_width()/2.,\n",
        "           height + 3,\n",
        "           '{:1.2f}'.format((height/total)*100),\n",
        "           ha='center')"
      ],
      "execution_count": 340,
      "outputs": [
        {
          "output_type": "display_data",
          "data": {
            "image/png": "[encoded data removed]",
            "text/plain": [
              "<Figure size 1800x576 with 1 Axes>"
            ]
          },
          "metadata": {
            "tags": [],
            "needs_background": "light"
          }
        }
      ]
    },
    {
      "cell_type": "markdown",
      "metadata": {
        "id": "Wvx-3ya1iruf"
      },
      "source": [
        "\n",
        "\n",
        "*   There are 14 unique categories present in the occupation attribute.\n",
        "*   Prof-specialty has the maximum count(8981) but Craft-repair, Exec-managerial and Adm-clerical Sales has comparable number of observations.\n",
        "\n"
      ]
    },
    {
      "cell_type": "markdown",
      "metadata": {
        "id": "NIpecuAKO_1l"
      },
      "source": [
        "### RELATIONSHIP"
      ]
    },
    {
      "cell_type": "code",
      "metadata": {
        "colab": {
          "base_uri": "https://localhost:8080/",
          "height": 497
        },
        "id": "vtBEUNAgO_1m",
        "outputId": "fb9fcc03-7b34-49ed-f58a-4d8eaa900f5e"
      },
      "source": [
        "plt.figure(figsize=(15,8))\n",
        "total=float(len(dataset['Income']))\n",
        "ax = sns.countplot(x='relationship',data=dataset)\n",
        "for p in ax.patches:\n",
        "    height = p.get_height()\n",
        "    ax.text(p.get_x() + p.get_width()/2.,\n",
        "           height + 3,\n",
        "           '{:1.2f}'.format((height/total)*100),\n",
        "           ha='center')"
      ],
      "execution_count": 341,
      "outputs": [
        {
          "output_type": "display_data",
          "data": {
            "image/png": "[encoded data removed]",
            "text/plain": [
              "<Figure size 1080x576 with 1 Axes>"
            ]
          },
          "metadata": {
            "tags": [],
            "needs_background": "light"
          }
        }
      ]
    },
    {
      "cell_type": "markdown",
      "metadata": {
        "id": "S66xpoZniyf1"
      },
      "source": [
        "\n",
        "\n",
        "*   There are 6 unique categories in the relationship attribute.\n",
        "*   Husband has maximum percentage (40.37%) among all categories followed by not-in-family(25.76%)\n",
        "\n"
      ]
    },
    {
      "cell_type": "markdown",
      "metadata": {
        "id": "qfybZGHyO_1m"
      },
      "source": [
        "### RACE"
      ]
    },
    {
      "cell_type": "code",
      "metadata": {
        "colab": {
          "base_uri": "https://localhost:8080/",
          "height": 497
        },
        "id": "N6Et9KcsO_1m",
        "outputId": "8b59db1d-2165-4b74-c841-77693ede2ccd"
      },
      "source": [
        "plt.figure(figsize=(15,8))\n",
        "total=float(len(dataset['Income']))\n",
        "ax = sns.countplot(x='race',data=dataset)\n",
        "for p in ax.patches:\n",
        "    height = p.get_height()\n",
        "    ax.text(p.get_x() + p.get_width()/2.,\n",
        "           height + 3,\n",
        "           '{:1.2f}'.format((height/total)*100),\n",
        "           ha='center')"
      ],
      "execution_count": 342,
      "outputs": [
        {
          "output_type": "display_data",
          "data": {
            "image/png": "[encoded data removed]",
            "text/plain": [
              "<Figure size 1080x576 with 1 Axes>"
            ]
          },
          "metadata": {
            "tags": [],
            "needs_background": "light"
          }
        }
      ]
    },
    {
      "cell_type": "markdown",
      "metadata": {
        "id": "wWKdXFkii8qO"
      },
      "source": [
        "\n",
        "\n",
        "*   There are 5 unique categories in the race attribute\n",
        "\n",
        "*   Most of them are \"white\" which is roughly 85.50%.\n",
        "*   This dataset is totally bias toward the \"white\" race.\n",
        "\n",
        "\n",
        "*   Second major race in the dataset is the \"black\" with just 9.59%.\n",
        "\n"
      ]
    },
    {
      "cell_type": "markdown",
      "metadata": {
        "id": "h2e98GwKO_1m"
      },
      "source": [
        "### SEX"
      ]
    },
    {
      "cell_type": "code",
      "metadata": {
        "colab": {
          "base_uri": "https://localhost:8080/",
          "height": 497
        },
        "id": "9IUbeWoEO_1m",
        "outputId": "018cf20a-86ab-4dcd-cea2-8f392de231c6"
      },
      "source": [
        "plt.figure(figsize=(8,8))\n",
        "total=float(len(dataset['Income']))\n",
        "ax = sns.countplot(x='sex',data=dataset)\n",
        "for p in ax.patches:\n",
        "    height = p.get_height()\n",
        "    ax.text(p.get_x() + p.get_width()/2.,\n",
        "           height + 3,\n",
        "           '{:1.2f}'.format((height/total)*100),\n",
        "           ha='center')"
      ],
      "execution_count": 343,
      "outputs": [
        {
          "output_type": "display_data",
          "data": {
            "image/png": "[encoded data removed]",
            "text/plain": [
              "<Figure size 576x576 with 1 Axes>"
            ]
          },
          "metadata": {
            "tags": [],
            "needs_background": "light"
          }
        }
      ]
    },
    {
      "cell_type": "markdown",
      "metadata": {
        "id": "1nC-cerxjH5k"
      },
      "source": [
        "\n",
        "\n",
        "\n",
        "*   Gender has 2 unique categories(male and female).\n",
        "*   Distribution shows that this dataset is skewed toward the male with nearly 67%.\n",
        "\n"
      ]
    },
    {
      "cell_type": "markdown",
      "metadata": {
        "id": "l0Q0i1QIO_1m"
      },
      "source": [
        "### NATIVE-COUNTRY"
      ]
    },
    {
      "cell_type": "code",
      "metadata": {
        "colab": {
          "base_uri": "https://localhost:8080/",
          "height": 626
        },
        "id": "vqUbhV-_O_1n",
        "outputId": "51736646-0729-4bb1-eaf1-3b44e3d93591"
      },
      "source": [
        "plt.figure(figsize=(25,15))\n",
        "total=float(len(dataset['Income']))\n",
        "ax = sns.countplot(y='native-country',data=dataset)\n",
        "for p in ax.patches:\n",
        "    width = p.get_width()\n",
        "    ax.text(width + 400,\n",
        "            p.get_y() + p.get_height()/2.,\n",
        "           '{:1.2f}'.format((width/total)*100),\n",
        "           ha='center')"
      ],
      "execution_count": 344,
      "outputs": [
        {
          "output_type": "display_data",
          "data": {
            "image/png": "[encoded data removed]",
            "text/plain": [
              "<Figure size 1800x1080 with 1 Axes>"
            ]
          },
          "metadata": {
            "tags": [],
            "needs_background": "light"
          }
        }
      ]
    },
    {
      "cell_type": "markdown",
      "metadata": {
        "id": "Lx-AZ-4QjP3u"
      },
      "source": [
        "\n",
        "\n",
        "*   This dataset is taken from the US.\n",
        "*  As 91.5% of them have native country America and others are immigrants.\n",
        "\n"
      ]
    },
    {
      "cell_type": "markdown",
      "metadata": {
        "id": "MJO-OXK0O_1n"
      },
      "source": [
        "### INCOME"
      ]
    },
    {
      "cell_type": "code",
      "metadata": {
        "colab": {
          "base_uri": "https://localhost:8080/",
          "height": 442
        },
        "id": "I-MurNQ3O_1n",
        "outputId": "5d190af8-9c01-4d0f-9774-20ee1f88e6f0"
      },
      "source": [
        "plt.figure(figsize=(7,7))\n",
        "total = float(len(dataset) )\n",
        "\n",
        "ax = sns.countplot(x=\"Income\", data=dataset)\n",
        "for p in ax.patches:\n",
        "    height = p.get_height()\n",
        "    ax.text(p.get_x()+p.get_width()/2.,\n",
        "            height + 3,\n",
        "            '{:1.2f}'.format((height/total)*100),\n",
        "            ha=\"center\") "
      ],
      "execution_count": 345,
      "outputs": [
        {
          "output_type": "display_data",
          "data": {
            "image/png": "[encoded data removed]",
            "text/plain": [
              "<Figure size 504x504 with 1 Axes>"
            ]
          },
          "metadata": {
            "tags": [],
            "needs_background": "light"
          }
        }
      ]
    },
    {
      "cell_type": "markdown",
      "metadata": {
        "id": "7vlgXfHmjUGC"
      },
      "source": [
        "\n",
        "\n",
        "*   This dataset not balance , i.e. 23.93%of them are belong to income group 1 (who earns more than 50k) and 76% fall under the income group 0 (who earns less than 50k).\n",
        "\n"
      ]
    },
    {
      "cell_type": "markdown",
      "metadata": {
        "id": "ik9OXs23O_1n"
      },
      "source": [
        "# BIVARIATE ANALYSIS"
      ]
    },
    {
      "cell_type": "markdown",
      "metadata": {
        "id": "W9L4RULwO_1n"
      },
      "source": [
        "### AGE"
      ]
    },
    {
      "cell_type": "code",
      "metadata": {
        "colab": {
          "base_uri": "https://localhost:8080/",
          "height": 623
        },
        "id": "7e85-zvhO_1n",
        "outputId": "b6b72adf-77f9-4a60-e5d9-a2a9bb73a30a"
      },
      "source": [
        "plt.figure(figsize=(10,10))\n",
        "sns.boxplot(x='Income',y='age',data=dataset)"
      ],
      "execution_count": 346,
      "outputs": [
        {
          "output_type": "execute_result",
          "data": {
            "text/plain": [
              "<matplotlib.axes._subplots.AxesSubplot at 0x7fad00d80710>"
            ]
          },
          "metadata": {
            "tags": []
          },
          "execution_count": 346
        },
        {
          "output_type": "display_data",
          "data": {
            "image/png": "[encoded data removed]",
            "text/plain": [
              "<Figure size 720x720 with 1 Axes>"
            ]
          },
          "metadata": {
            "tags": [],
            "needs_background": "light"
          }
        }
      ]
    },
    {
      "cell_type": "markdown",
      "metadata": {
        "id": "mlsWMiVVjlqR"
      },
      "source": [
        "#### Hypothesis Testing beteen Age and Income"
      ]
    },
    {
      "cell_type": "code",
      "metadata": {
        "colab": {
          "base_uri": "https://localhost:8080/",
          "height": 110
        },
        "id": "m4T3TTF8O_1n",
        "outputId": "aaa2e487-3cc0-4800-f0ce-c26e34ba452b"
      },
      "source": [
        "dataset[['Income','age']].groupby('Income',as_index=False).mean().sort_values(by='age',ascending=False)"
      ],
      "execution_count": 347,
      "outputs": [
        {
          "output_type": "execute_result",
          "data": {
            "text/html": [
              "<div>\n",
              "<style scoped>\n",
              "    .dataframe tbody tr th:only-of-type {\n",
              "        vertical-align: middle;\n",
              "    }\n",
              "\n",
              "    .dataframe tbody tr th {\n",
              "        vertical-align: top;\n",
              "    }\n",
              "\n",
              "    .dataframe thead th {\n",
              "        text-align: right;\n",
              "    }\n",
              "</style>\n",
              "<table border=\"1\" class=\"dataframe\">\n",
              "  <thead>\n",
              "    <tr style=\"text-align: right;\">\n",
              "      <th></th>\n",
              "      <th>Income</th>\n",
              "      <th>age</th>\n",
              "    </tr>\n",
              "  </thead>\n",
              "  <tbody>\n",
              "    <tr>\n",
              "      <th>1</th>\n",
              "      <td>1</td>\n",
              "      <td>44.249841</td>\n",
              "    </tr>\n",
              "    <tr>\n",
              "      <th>0</th>\n",
              "      <td>0</td>\n",
              "      <td>36.783738</td>\n",
              "    </tr>\n",
              "  </tbody>\n",
              "</table>\n",
              "</div>"
            ],
            "text/plain": [
              "   Income        age\n",
              "1       1  44.249841\n",
              "0       0  36.783738"
            ]
          },
          "metadata": {
            "tags": []
          },
          "execution_count": 347
        }
      ]
    },
    {
      "cell_type": "code",
      "metadata": {
        "id": "bhSSzun9O_1n"
      },
      "source": [
        "data = dataset.copy()"
      ],
      "execution_count": 348,
      "outputs": []
    },
    {
      "cell_type": "code",
      "metadata": {
        "id": "wepS1EJyO_1o"
      },
      "source": [
        "data = data[(np.abs(stats.zscore(data['age'])) < 3)]"
      ],
      "execution_count": 349,
      "outputs": []
    },
    {
      "cell_type": "code",
      "metadata": {
        "id": "rDDtOniLO_1o"
      },
      "source": [
        "income_1 = data[data['Income'] ==1]['age']\n",
        "income_0 = data[data['Income']==0]['age']"
      ],
      "execution_count": 350,
      "outputs": []
    },
    {
      "cell_type": "code",
      "metadata": {
        "id": "1GyBlxJ6O_1o"
      },
      "source": [
        "income_0 = income_0.values.tolist()\n",
        "income_0 = random.sample(income_0,100)\n",
        "income_1 = income_1.values.tolist()\n",
        "income_1 = random.sample(income_1,100)"
      ],
      "execution_count": 351,
      "outputs": []
    },
    {
      "cell_type": "code",
      "metadata": {
        "colab": {
          "base_uri": "https://localhost:8080/"
        },
        "id": "_aycoXdBO_1o",
        "outputId": "1d51db0a-7785-44b7-bcb1-09d64e0f7d09"
      },
      "source": [
        "ttest,pval = ttest_ind(income_0,income_1,equal_var=False)\n",
        "print(\"ttest\",ttest)\n",
        "print(\"pvalue\",pval)"
      ],
      "execution_count": 352,
      "outputs": [
        {
          "output_type": "stream",
          "text": [
            "ttest -2.9078889067842044\n",
            "pvalue 0.0041017381841200636\n"
          ],
          "name": "stdout"
        }
      ]
    },
    {
      "cell_type": "markdown",
      "metadata": {
        "id": "cGHubt_6O_1o"
      },
      "source": [
        "Reject Null Hypothesis.\n",
        "#### Age and Income are dependent"
      ]
    },
    {
      "cell_type": "markdown",
      "metadata": {
        "id": "ndTQEh-wO_1o"
      },
      "source": [
        "### HOURS-PER-WEEK"
      ]
    },
    {
      "cell_type": "code",
      "metadata": {
        "colab": {
          "base_uri": "https://localhost:8080/",
          "height": 623
        },
        "id": "6OcX_Wo5O_1p",
        "outputId": "7cd397d1-2de9-441d-fafc-01a09a847c59"
      },
      "source": [
        "plt.figure(figsize=(10,10))\n",
        "sns.boxplot(x='Income',y='hours-per-week',data=dataset)"
      ],
      "execution_count": 353,
      "outputs": [
        {
          "output_type": "execute_result",
          "data": {
            "text/plain": [
              "<matplotlib.axes._subplots.AxesSubplot at 0x7fad00b9b550>"
            ]
          },
          "metadata": {
            "tags": []
          },
          "execution_count": 353
        },
        {
          "output_type": "display_data",
          "data": {
            "image/png": "[encoded data removed]",
            "text/plain": [
              "<Figure size 720x720 with 1 Axes>"
            ]
          },
          "metadata": {
            "tags": [],
            "needs_background": "light"
          }
        }
      ]
    },
    {
      "cell_type": "markdown",
      "metadata": {
        "id": "k8LOE0X5jtO_"
      },
      "source": [
        "#### Hypothesis Testing beteen Hours per week and Income"
      ]
    },
    {
      "cell_type": "code",
      "metadata": {
        "id": "yFdXEAeiO_1p"
      },
      "source": [
        "data = dataset.copy()"
      ],
      "execution_count": 354,
      "outputs": []
    },
    {
      "cell_type": "code",
      "metadata": {
        "id": "49QgsGNSO_1p"
      },
      "source": [
        "data = data[np.abs(stats.zscore(data['hours-per-week'])) < 3]"
      ],
      "execution_count": 355,
      "outputs": []
    },
    {
      "cell_type": "code",
      "metadata": {
        "colab": {
          "base_uri": "https://localhost:8080/"
        },
        "id": "CX-onaaGO_1p",
        "outputId": "3a70643e-e2f9-4bf8-b9df-0cfd0b39eb0c"
      },
      "source": [
        "data.shape"
      ],
      "execution_count": 356,
      "outputs": [
        {
          "output_type": "execute_result",
          "data": {
            "text/plain": [
              "(32121, 15)"
            ]
          },
          "metadata": {
            "tags": []
          },
          "execution_count": 356
        }
      ]
    },
    {
      "cell_type": "code",
      "metadata": {
        "id": "RLKJOQzrO_1p"
      },
      "source": [
        "income_1 = data[data['Income'] == 1]['hours-per-week']\n",
        "income_0 = data[data['Income'] == 0]['hours-per-week']"
      ],
      "execution_count": 357,
      "outputs": []
    },
    {
      "cell_type": "code",
      "metadata": {
        "id": "crkSmmnQO_1p"
      },
      "source": [
        "income_0 = income_0.values.tolist()\n",
        "income_0 = random.sample(income_0,100)\n",
        "income_1 = income_1.values.tolist()\n",
        "income_1 = random.sample(income_1,100)"
      ],
      "execution_count": 358,
      "outputs": []
    },
    {
      "cell_type": "code",
      "metadata": {
        "colab": {
          "base_uri": "https://localhost:8080/"
        },
        "id": "96Dz3E2xO_1p",
        "outputId": "68ea605f-2c41-4638-f756-6b673bd8153e"
      },
      "source": [
        "ttest,pval = ttest_ind(income_1,income_0,equal_var=False)\n",
        "print(\"ttest \", ttest)\n",
        "print('pvalue ',pval)"
      ],
      "execution_count": 359,
      "outputs": [
        {
          "output_type": "stream",
          "text": [
            "ttest  5.161266925255557\n",
            "pvalue  6.091134312952887e-07\n"
          ],
          "name": "stdout"
        }
      ]
    },
    {
      "cell_type": "markdown",
      "metadata": {
        "id": "rmdTWVdPO_1q"
      },
      "source": [
        "Reject Null Hypothesis\n",
        "#### Hours-per-week and Income are dependent"
      ]
    },
    {
      "cell_type": "markdown",
      "metadata": {
        "id": "7ek0cgEjO_1q"
      },
      "source": [
        "### FNLWGT"
      ]
    },
    {
      "cell_type": "code",
      "metadata": {
        "colab": {
          "base_uri": "https://localhost:8080/",
          "height": 470
        },
        "id": "RN0frqQbO_1q",
        "outputId": "67d04965-8881-4dca-8e1f-b3db781448ca"
      },
      "source": [
        "plt.figure(figsize=(10,7))\n",
        "sns.boxplot(x='Income',y='fnlwgt',data=dataset)"
      ],
      "execution_count": 360,
      "outputs": [
        {
          "output_type": "execute_result",
          "data": {
            "text/plain": [
              "<matplotlib.axes._subplots.AxesSubplot at 0x7fad00b157d0>"
            ]
          },
          "metadata": {
            "tags": []
          },
          "execution_count": 360
        },
        {
          "output_type": "display_data",
          "data": {
            "image/png": "[encoded data removed]",
            "text/plain": [
              "<Figure size 720x504 with 1 Axes>"
            ]
          },
          "metadata": {
            "tags": [],
            "needs_background": "light"
          }
        }
      ]
    },
    {
      "cell_type": "markdown",
      "metadata": {
        "id": "9akiR81Wj1Fe"
      },
      "source": [
        "#### Hypothesis Testing beteen Fnlwgt and Income"
      ]
    },
    {
      "cell_type": "code",
      "metadata": {
        "id": "E06g0ijQO_1q"
      },
      "source": [
        "data = dataset.copy()"
      ],
      "execution_count": 361,
      "outputs": []
    },
    {
      "cell_type": "code",
      "metadata": {
        "id": "gTSQkWguO_1q"
      },
      "source": [
        "data = data[np.abs(stats.zscore(dataset['fnlwgt'])) < 3]"
      ],
      "execution_count": 362,
      "outputs": []
    },
    {
      "cell_type": "code",
      "metadata": {
        "id": "PVJiodFYO_1q"
      },
      "source": [
        "income_1 = data[data['Income'] == 1]['fnlwgt']\n",
        "income_0 = data[data['Income'] == 0]['fnlwgt']"
      ],
      "execution_count": 363,
      "outputs": []
    },
    {
      "cell_type": "code",
      "metadata": {
        "id": "on06HnIXO_1q"
      },
      "source": [
        "income_0 = income_0.values.tolist()\n",
        "income_0 = random.sample(income_0,100)\n",
        "income_1 = income_1.values.tolist()\n",
        "income_1 = random.sample(income_1,100)"
      ],
      "execution_count": 364,
      "outputs": []
    },
    {
      "cell_type": "code",
      "metadata": {
        "colab": {
          "base_uri": "https://localhost:8080/"
        },
        "id": "ewfNHgIZO_1q",
        "outputId": "7ecee030-674b-4357-8edd-c49837c9aab3"
      },
      "source": [
        "ttest,pval = ttest_ind(income_0,income_1,equal_var=False)\n",
        "print('ttest',ttest)\n",
        "print('pvalue',pval)"
      ],
      "execution_count": 365,
      "outputs": [
        {
          "output_type": "stream",
          "text": [
            "ttest 1.6811477752638995\n",
            "pvalue 0.0944362002079336\n"
          ],
          "name": "stdout"
        }
      ]
    },
    {
      "cell_type": "markdown",
      "metadata": {
        "id": "aEutX4WoO_1q"
      },
      "source": [
        "Fail to reject Null Hypothesis\n",
        "#### Fnlwgt and Income are independent"
      ]
    },
    {
      "cell_type": "markdown",
      "metadata": {
        "id": "MiAy1kTGO_1q"
      },
      "source": [
        "### CAPITAL-GAIN"
      ]
    },
    {
      "cell_type": "code",
      "metadata": {
        "colab": {
          "base_uri": "https://localhost:8080/",
          "height": 459
        },
        "id": "Iqt6gS_xO_1r",
        "outputId": "e47c779c-66dd-404e-91a4-7479d0d9724a"
      },
      "source": [
        "plt.figure(figsize=(10,7))\n",
        "sns.boxplot(x='Income',y='capital-gain',data=dataset)"
      ],
      "execution_count": 366,
      "outputs": [
        {
          "output_type": "execute_result",
          "data": {
            "text/plain": [
              "<matplotlib.axes._subplots.AxesSubplot at 0x7fad00b1d590>"
            ]
          },
          "metadata": {
            "tags": []
          },
          "execution_count": 366
        },
        {
          "output_type": "display_data",
          "data": {
            "image/png": "[encoded data removed]",
            "text/plain": [
              "<Figure size 720x504 with 1 Axes>"
            ]
          },
          "metadata": {
            "tags": [],
            "needs_background": "light"
          }
        }
      ]
    },
    {
      "cell_type": "markdown",
      "metadata": {
        "id": "hVCfZg9Tj3i2"
      },
      "source": [
        "#### Hypothesis Testing beteen capital-gain and Income"
      ]
    },
    {
      "cell_type": "code",
      "metadata": {
        "id": "RnDcJjueO_1r"
      },
      "source": [
        "data = dataset.copy()"
      ],
      "execution_count": 367,
      "outputs": []
    },
    {
      "cell_type": "code",
      "metadata": {
        "id": "WJSPFpfQO_1r"
      },
      "source": [
        "data = data[np.abs(stats.zscore(dataset['capital-gain'])) < 3]"
      ],
      "execution_count": 368,
      "outputs": []
    },
    {
      "cell_type": "code",
      "metadata": {
        "id": "Ksdv8scrO_1r"
      },
      "source": [
        "income_1 = data[data['Income'] == 1]['capital-gain']\n",
        "income_0 = data[data['Income'] == 0]['capital-gain']"
      ],
      "execution_count": 369,
      "outputs": []
    },
    {
      "cell_type": "code",
      "metadata": {
        "id": "ryrsk2DhO_1r"
      },
      "source": [
        "income_0 = income_0.values.tolist()\n",
        "income_0 = random.sample(income_0,100)\n",
        "income_1 = income_1.values.tolist()\n",
        "income_1 = random.sample(income_1,100)"
      ],
      "execution_count": 370,
      "outputs": []
    },
    {
      "cell_type": "code",
      "metadata": {
        "colab": {
          "base_uri": "https://localhost:8080/"
        },
        "id": "_tjiBhGPO_1r",
        "outputId": "72217036-2ccb-4983-ae91-5ea169c0dd98"
      },
      "source": [
        "ttest,pval = ttest_ind(income_0,income_1,equal_var=False)\n",
        "print('ttest',ttest)\n",
        "print('pvalues',pval)"
      ],
      "execution_count": 371,
      "outputs": [
        {
          "output_type": "stream",
          "text": [
            "ttest -3.4242567532741646\n",
            "pvalues 0.0008899187252301149\n"
          ],
          "name": "stdout"
        }
      ]
    },
    {
      "cell_type": "markdown",
      "metadata": {
        "id": "hXeM6vIUO_1r"
      },
      "source": [
        "Reject Null Hypothesis\n",
        "#### Capital-gain and Income are dependent"
      ]
    },
    {
      "cell_type": "markdown",
      "metadata": {
        "id": "k_kPOpOwO_1r"
      },
      "source": [
        "### CAPITAL-LOSS"
      ]
    },
    {
      "cell_type": "code",
      "metadata": {
        "colab": {
          "base_uri": "https://localhost:8080/",
          "height": 459
        },
        "id": "GwghzaCrO_1r",
        "outputId": "3d4758d9-5d5c-4b64-b0eb-12b9d57d26c8"
      },
      "source": [
        "plt.figure(figsize=(10,7))\n",
        "sns.boxplot(x='Income',y='capital-loss',data=dataset)"
      ],
      "execution_count": 372,
      "outputs": [
        {
          "output_type": "execute_result",
          "data": {
            "text/plain": [
              "<matplotlib.axes._subplots.AxesSubplot at 0x7fad009cb050>"
            ]
          },
          "metadata": {
            "tags": []
          },
          "execution_count": 372
        },
        {
          "output_type": "display_data",
          "data": {
            "image/png": "[encoded data removed]",
            "text/plain": [
              "<Figure size 720x504 with 1 Axes>"
            ]
          },
          "metadata": {
            "tags": [],
            "needs_background": "light"
          }
        }
      ]
    },
    {
      "cell_type": "markdown",
      "metadata": {
        "id": "1-gKasTFj7SR"
      },
      "source": [
        "#### Hypothesis Testing beteen capital-loss and Income"
      ]
    },
    {
      "cell_type": "code",
      "metadata": {
        "id": "c6ruZzvqO_1s"
      },
      "source": [
        "data = dataset.copy()"
      ],
      "execution_count": 373,
      "outputs": []
    },
    {
      "cell_type": "code",
      "metadata": {
        "id": "ZyMtvFDcO_1s"
      },
      "source": [
        "data = data[np.abs(stats.zscore(data['capital-loss'])) < 3]"
      ],
      "execution_count": 374,
      "outputs": []
    },
    {
      "cell_type": "code",
      "metadata": {
        "id": "2jg0jRG3O_1s"
      },
      "source": [
        "income_1 = data[data['Income'] == 1]['capital-loss']\n",
        "income_0 = data[data['Income'] == 0]['capital-loss']"
      ],
      "execution_count": 375,
      "outputs": []
    },
    {
      "cell_type": "code",
      "metadata": {
        "id": "vO_C-N_hO_1s"
      },
      "source": [
        "income_0 = income_0.values.tolist()\n",
        "income_0 = random.sample(income_0,100)\n",
        "income_1 = income_1.values.tolist()\n",
        "income_1 = random.sample(income_1,100)"
      ],
      "execution_count": 376,
      "outputs": []
    },
    {
      "cell_type": "code",
      "metadata": {
        "colab": {
          "base_uri": "https://localhost:8080/"
        },
        "id": "wQCBXY7xO_1s",
        "outputId": "8d6c54dc-2cc1-447c-d37a-92bf5cd1fe1e"
      },
      "source": [
        "ttest,pval = ttest_ind(income_1,income_0,equal_var=False)\n",
        "print('ttest',ttest)\n",
        "print('pvalues',pval)"
      ],
      "execution_count": 377,
      "outputs": [
        {
          "output_type": "stream",
          "text": [
            "ttest nan\n",
            "pvalues nan\n"
          ],
          "name": "stdout"
        }
      ]
    },
    {
      "cell_type": "markdown",
      "metadata": {
        "id": "5jur5suSO_1s"
      },
      "source": [
        "Fail to reject Null Hypothesis\n",
        "#### Capital-loss and Income are independent"
      ]
    },
    {
      "cell_type": "markdown",
      "metadata": {
        "id": "ex4MAM8VO_1s"
      },
      "source": [
        "## CATEGORICAL FEATURES"
      ]
    },
    {
      "cell_type": "markdown",
      "metadata": {
        "id": "Jyn05KKKO_1s"
      },
      "source": [
        "### WORKCLASS"
      ]
    },
    {
      "cell_type": "code",
      "metadata": {
        "colab": {
          "base_uri": "https://localhost:8080/",
          "height": 707
        },
        "id": "o1iMSIeJO_1s",
        "outputId": "44858cd2-e002-416a-aac4-cf510d64f1e2"
      },
      "source": [
        "plt.figure(figsize=(12,10))\n",
        "total = float(len(dataset['Income']))\n",
        "\n",
        "ax = sns.countplot(x='workclass',hue='Income',data=dataset)\n",
        "for p in ax.patches:\n",
        "    height = p.get_height()\n",
        "    ax.text(p.get_x() + p.get_width()/2.,\n",
        "           height + 3,\n",
        "           '{:1.2f}'.format((height/total)*100),\n",
        "           ha='center')"
      ],
      "execution_count": 378,
      "outputs": [
        {
          "output_type": "stream",
          "text": [
            "posx and posy should be finite values\n",
            "posx and posy should be finite values\n",
            "posx and posy should be finite values\n",
            "posx and posy should be finite values\n",
            "posx and posy should be finite values\n",
            "posx and posy should be finite values\n"
          ],
          "name": "stderr"
        },
        {
          "output_type": "display_data",
          "data": {
            "image/png": "[encoded data removed]",
            "text/plain": [
              "<Figure size 864x720 with 1 Axes>"
            ]
          },
          "metadata": {
            "tags": [],
            "needs_background": "light"
          }
        }
      ]
    },
    {
      "cell_type": "markdown",
      "metadata": {
        "id": "ccsqc89Ej97b"
      },
      "source": [
        "#### Hypothesis Testing beteen Workclass and Income"
      ]
    },
    {
      "cell_type": "code",
      "metadata": {
        "colab": {
          "base_uri": "https://localhost:8080/",
          "height": 265
        },
        "id": "5HrzjDpgO_1t",
        "outputId": "ce31e9e0-3253-421b-acb4-8f253db86ce2"
      },
      "source": [
        "c_t = pd.crosstab(dataset['workclass'].sample(frac=0.002, random_state=42),\n",
        "                 dataset['Income'].sample(frac=0.002,random_state=42),margins=False)\n",
        "c_t"
      ],
      "execution_count": 379,
      "outputs": [
        {
          "output_type": "execute_result",
          "data": {
            "text/html": [
              "<div>\n",
              "<style scoped>\n",
              "    .dataframe tbody tr th:only-of-type {\n",
              "        vertical-align: middle;\n",
              "    }\n",
              "\n",
              "    .dataframe tbody tr th {\n",
              "        vertical-align: top;\n",
              "    }\n",
              "\n",
              "    .dataframe thead th {\n",
              "        text-align: right;\n",
              "    }\n",
              "</style>\n",
              "<table border=\"1\" class=\"dataframe\">\n",
              "  <thead>\n",
              "    <tr style=\"text-align: right;\">\n",
              "      <th>Income</th>\n",
              "      <th>0</th>\n",
              "      <th>1</th>\n",
              "    </tr>\n",
              "    <tr>\n",
              "      <th>workclass</th>\n",
              "      <th></th>\n",
              "      <th></th>\n",
              "    </tr>\n",
              "  </thead>\n",
              "  <tbody>\n",
              "    <tr>\n",
              "      <th>Federal-gov</th>\n",
              "      <td>3</td>\n",
              "      <td>2</td>\n",
              "    </tr>\n",
              "    <tr>\n",
              "      <th>Local-gov</th>\n",
              "      <td>3</td>\n",
              "      <td>1</td>\n",
              "    </tr>\n",
              "    <tr>\n",
              "      <th>Private</th>\n",
              "      <td>35</td>\n",
              "      <td>12</td>\n",
              "    </tr>\n",
              "    <tr>\n",
              "      <th>Self-emp-inc</th>\n",
              "      <td>1</td>\n",
              "      <td>1</td>\n",
              "    </tr>\n",
              "    <tr>\n",
              "      <th>Self-emp-not-inc</th>\n",
              "      <td>3</td>\n",
              "      <td>1</td>\n",
              "    </tr>\n",
              "    <tr>\n",
              "      <th>State-gov</th>\n",
              "      <td>2</td>\n",
              "      <td>1</td>\n",
              "    </tr>\n",
              "  </tbody>\n",
              "</table>\n",
              "</div>"
            ],
            "text/plain": [
              "Income             0   1\n",
              "workclass               \n",
              "Federal-gov        3   2\n",
              "Local-gov          3   1\n",
              "Private           35  12\n",
              "Self-emp-inc       1   1\n",
              "Self-emp-not-inc   3   1\n",
              "State-gov          2   1"
            ]
          },
          "metadata": {
            "tags": []
          },
          "execution_count": 379
        }
      ]
    },
    {
      "cell_type": "code",
      "metadata": {
        "colab": {
          "base_uri": "https://localhost:8080/"
        },
        "id": "gsCSPQQPO_1t",
        "outputId": "7338f16f-75b5-46c4-e9bf-0f56fba2c898"
      },
      "source": [
        "stat, p, dof, expected = chi2_contingency(c_t)\n",
        "print('dof=%d' %dof)\n",
        "print('p_value', p)\n",
        "print(expected)"
      ],
      "execution_count": 380,
      "outputs": [
        {
          "output_type": "stream",
          "text": [
            "dof=5\n",
            "p_value 0.9574559255860002\n",
            "[[ 3.61538462  1.38461538]\n",
            " [ 2.89230769  1.10769231]\n",
            " [33.98461538 13.01538462]\n",
            " [ 1.44615385  0.55384615]\n",
            " [ 2.89230769  1.10769231]\n",
            " [ 2.16923077  0.83076923]]\n"
          ],
          "name": "stdout"
        }
      ]
    },
    {
      "cell_type": "code",
      "metadata": {
        "colab": {
          "base_uri": "https://localhost:8080/"
        },
        "id": "OilGG3o1O_1t",
        "outputId": "52077679-4878-465e-82e2-b3f48bfe51f9"
      },
      "source": [
        "prob = 0.95\n",
        "critical = chi2.ppf(prob,dof)\n",
        "print('probability=%.3f, critical=%.3f, stat=%.3f' %(prob,critical,stat))"
      ],
      "execution_count": 381,
      "outputs": [
        {
          "output_type": "stream",
          "text": [
            "probability=0.950, critical=11.070, stat=1.061\n"
          ],
          "name": "stdout"
        }
      ]
    },
    {
      "cell_type": "markdown",
      "metadata": {
        "id": "K1MX7U4mO_1t"
      },
      "source": [
        "Fail to reject Null Hypothesis\n",
        "#### Workclass and Income are independent"
      ]
    },
    {
      "cell_type": "markdown",
      "metadata": {
        "id": "_TiwkM4YO_1t"
      },
      "source": [
        "### EDUCATION"
      ]
    },
    {
      "cell_type": "code",
      "metadata": {
        "colab": {
          "base_uri": "https://localhost:8080/",
          "height": 625
        },
        "id": "EZn7GzdnO_1t",
        "outputId": "f4cf3a7f-09f7-4cd7-8f54-8c5390229ecc"
      },
      "source": [
        "plt.figure(figsize=(20,10))\n",
        "total = float(len(dataset['Income']))\n",
        "\n",
        "ax = sns.countplot(x='education',hue='Income',data=dataset)\n",
        "for p in ax.patches:\n",
        "    height = p.get_height()\n",
        "    ax.text(p.get_x() + p.get_width()/2.,\n",
        "           height + 3,\n",
        "           '{:.2f}'.format((height/total)*100),\n",
        "           ha='center')"
      ],
      "execution_count": 382,
      "outputs": [
        {
          "output_type": "stream",
          "text": [
            "posx and posy should be finite values\n",
            "posx and posy should be finite values\n",
            "posx and posy should be finite values\n"
          ],
          "name": "stderr"
        },
        {
          "output_type": "display_data",
          "data": {
            "image/png": "[encoded data removed]",
            "text/plain": [
              "<Figure size 1440x720 with 1 Axes>"
            ]
          },
          "metadata": {
            "tags": [],
            "needs_background": "light"
          }
        }
      ]
    },
    {
      "cell_type": "markdown",
      "metadata": {
        "id": "GZEBEZnxkCYS"
      },
      "source": [
        "#### Hypothesis Testing beteen Education and Income"
      ]
    },
    {
      "cell_type": "code",
      "metadata": {
        "id": "Jx53nZATO_1t"
      },
      "source": [
        "c_t = pd.crosstab(dataset['education'].sample(frac=0.002,replace=True,random_state=0),\n",
        "                  dataset['Income'].sample(frac=0.002,replace=True,random_state=0),margins=False)"
      ],
      "execution_count": 383,
      "outputs": []
    },
    {
      "cell_type": "code",
      "metadata": {
        "colab": {
          "base_uri": "https://localhost:8080/",
          "height": 480
        },
        "id": "FVvMeS04O_1u",
        "outputId": "b6c20294-046b-4ee7-f23f-ebe144079f4f"
      },
      "source": [
        "c_t"
      ],
      "execution_count": 384,
      "outputs": [
        {
          "output_type": "execute_result",
          "data": {
            "text/html": [
              "<div>\n",
              "<style scoped>\n",
              "    .dataframe tbody tr th:only-of-type {\n",
              "        vertical-align: middle;\n",
              "    }\n",
              "\n",
              "    .dataframe tbody tr th {\n",
              "        vertical-align: top;\n",
              "    }\n",
              "\n",
              "    .dataframe thead th {\n",
              "        text-align: right;\n",
              "    }\n",
              "</style>\n",
              "<table border=\"1\" class=\"dataframe\">\n",
              "  <thead>\n",
              "    <tr style=\"text-align: right;\">\n",
              "      <th>Income</th>\n",
              "      <th>0</th>\n",
              "      <th>1</th>\n",
              "    </tr>\n",
              "    <tr>\n",
              "      <th>education</th>\n",
              "      <th></th>\n",
              "      <th></th>\n",
              "    </tr>\n",
              "  </thead>\n",
              "  <tbody>\n",
              "    <tr>\n",
              "      <th>10th</th>\n",
              "      <td>6</td>\n",
              "      <td>0</td>\n",
              "    </tr>\n",
              "    <tr>\n",
              "      <th>11th</th>\n",
              "      <td>1</td>\n",
              "      <td>0</td>\n",
              "    </tr>\n",
              "    <tr>\n",
              "      <th>5th-6th</th>\n",
              "      <td>1</td>\n",
              "      <td>0</td>\n",
              "    </tr>\n",
              "    <tr>\n",
              "      <th>7th-8th</th>\n",
              "      <td>2</td>\n",
              "      <td>1</td>\n",
              "    </tr>\n",
              "    <tr>\n",
              "      <th>9th</th>\n",
              "      <td>2</td>\n",
              "      <td>0</td>\n",
              "    </tr>\n",
              "    <tr>\n",
              "      <th>Assoc-acdm</th>\n",
              "      <td>2</td>\n",
              "      <td>0</td>\n",
              "    </tr>\n",
              "    <tr>\n",
              "      <th>Assoc-voc</th>\n",
              "      <td>1</td>\n",
              "      <td>0</td>\n",
              "    </tr>\n",
              "    <tr>\n",
              "      <th>Bachelors</th>\n",
              "      <td>5</td>\n",
              "      <td>1</td>\n",
              "    </tr>\n",
              "    <tr>\n",
              "      <th>Doctorate</th>\n",
              "      <td>0</td>\n",
              "      <td>2</td>\n",
              "    </tr>\n",
              "    <tr>\n",
              "      <th>HS-grad</th>\n",
              "      <td>14</td>\n",
              "      <td>4</td>\n",
              "    </tr>\n",
              "    <tr>\n",
              "      <th>Masters</th>\n",
              "      <td>0</td>\n",
              "      <td>5</td>\n",
              "    </tr>\n",
              "    <tr>\n",
              "      <th>Prof-school</th>\n",
              "      <td>0</td>\n",
              "      <td>2</td>\n",
              "    </tr>\n",
              "    <tr>\n",
              "      <th>Some-college</th>\n",
              "      <td>14</td>\n",
              "      <td>2</td>\n",
              "    </tr>\n",
              "  </tbody>\n",
              "</table>\n",
              "</div>"
            ],
            "text/plain": [
              "Income          0  1\n",
              "education           \n",
              " 10th           6  0\n",
              " 11th           1  0\n",
              " 5th-6th        1  0\n",
              " 7th-8th        2  1\n",
              " 9th            2  0\n",
              " Assoc-acdm     2  0\n",
              " Assoc-voc      1  0\n",
              " Bachelors      5  1\n",
              " Doctorate      0  2\n",
              " HS-grad       14  4\n",
              " Masters        0  5\n",
              " Prof-school    0  2\n",
              " Some-college  14  2"
            ]
          },
          "metadata": {
            "tags": []
          },
          "execution_count": 384
        }
      ]
    },
    {
      "cell_type": "code",
      "metadata": {
        "colab": {
          "base_uri": "https://localhost:8080/"
        },
        "id": "I14kXBgrO_1u",
        "outputId": "db3dcf7e-3f2c-4065-9897-2c0e0b9b70a2"
      },
      "source": [
        "stat, p, dof, expected = chi2_contingency(c_t)\n",
        "print('dof=%d'%dof)\n",
        "print('p-value',p)\n",
        "print(expected)"
      ],
      "execution_count": 385,
      "outputs": [
        {
          "output_type": "stream",
          "text": [
            "dof=12\n",
            "p-value 0.0013526135560994535\n",
            "[[ 4.43076923  1.56923077]\n",
            " [ 0.73846154  0.26153846]\n",
            " [ 0.73846154  0.26153846]\n",
            " [ 2.21538462  0.78461538]\n",
            " [ 1.47692308  0.52307692]\n",
            " [ 1.47692308  0.52307692]\n",
            " [ 0.73846154  0.26153846]\n",
            " [ 4.43076923  1.56923077]\n",
            " [ 1.47692308  0.52307692]\n",
            " [13.29230769  4.70769231]\n",
            " [ 3.69230769  1.30769231]\n",
            " [ 1.47692308  0.52307692]\n",
            " [11.81538462  4.18461538]]\n"
          ],
          "name": "stdout"
        }
      ]
    },
    {
      "cell_type": "code",
      "metadata": {
        "colab": {
          "base_uri": "https://localhost:8080/"
        },
        "id": "7Rru0WRCO_1u",
        "outputId": "b515cffb-a234-412f-bc42-974ee544714b"
      },
      "source": [
        "prob=0.95\n",
        "critical = chi2.ppf(prob,dof)\n",
        "print('probability=%.3f, critical=%.3f, stat=%.3f'%(prob,critical,stat))"
      ],
      "execution_count": 386,
      "outputs": [
        {
          "output_type": "stream",
          "text": [
            "probability=0.950, critical=21.026, stat=32.064\n"
          ],
          "name": "stdout"
        }
      ]
    },
    {
      "cell_type": "markdown",
      "metadata": {
        "id": "vuwsm-keO_1u"
      },
      "source": [
        "Reject Null Hypothesis\n",
        "#### Education and Income are dependent"
      ]
    },
    {
      "cell_type": "markdown",
      "metadata": {
        "id": "2PlOZHnbO_1u"
      },
      "source": [
        "### MARITAL-STATUS"
      ]
    },
    {
      "cell_type": "code",
      "metadata": {
        "colab": {
          "base_uri": "https://localhost:8080/",
          "height": 606
        },
        "id": "b0XGp-SqO_1u",
        "outputId": "ba0102bb-37aa-41f7-e246-cccb6e1ef390"
      },
      "source": [
        "plt.figure(figsize=(17,10))\n",
        "total = float(len(dataset['Income']))\n",
        "\n",
        "ax = sns.countplot('marital-status', hue='Income', data=dataset)\n",
        "for p in ax.patches:\n",
        "    height=p.get_height()\n",
        "    ax.text(p.get_x() + p.get_width()/2.,\n",
        "           height + 3,\n",
        "           '{:1.2f}'.format((height/total)*100),\n",
        "           ha='center')"
      ],
      "execution_count": 387,
      "outputs": [
        {
          "output_type": "display_data",
          "data": {
            "image/png": "[encoded data removed]",
            "text/plain": [
              "<Figure size 1224x720 with 1 Axes>"
            ]
          },
          "metadata": {
            "tags": [],
            "needs_background": "light"
          }
        }
      ]
    },
    {
      "cell_type": "markdown",
      "metadata": {
        "id": "VoR9da60kFfS"
      },
      "source": [
        "#### Hypothesis Testing beteen Marital-Status and Income"
      ]
    },
    {
      "cell_type": "code",
      "metadata": {
        "id": "KVvZcLIgO_1u"
      },
      "source": [
        "c_t = pd.crosstab(dataset['marital-status'].sample(frac=0.002,random_state=42),\n",
        "                 dataset['Income'].sample(frac=0.002,random_state=42),margins=False)"
      ],
      "execution_count": 388,
      "outputs": []
    },
    {
      "cell_type": "code",
      "metadata": {
        "colab": {
          "base_uri": "https://localhost:8080/",
          "height": 234
        },
        "id": "hbfXKkQKO_1v",
        "outputId": "e1a3fcac-f9f1-4711-cd6a-a7b886d6dd32"
      },
      "source": [
        "c_t"
      ],
      "execution_count": 389,
      "outputs": [
        {
          "output_type": "execute_result",
          "data": {
            "text/html": [
              "<div>\n",
              "<style scoped>\n",
              "    .dataframe tbody tr th:only-of-type {\n",
              "        vertical-align: middle;\n",
              "    }\n",
              "\n",
              "    .dataframe tbody tr th {\n",
              "        vertical-align: top;\n",
              "    }\n",
              "\n",
              "    .dataframe thead th {\n",
              "        text-align: right;\n",
              "    }\n",
              "</style>\n",
              "<table border=\"1\" class=\"dataframe\">\n",
              "  <thead>\n",
              "    <tr style=\"text-align: right;\">\n",
              "      <th>Income</th>\n",
              "      <th>0</th>\n",
              "      <th>1</th>\n",
              "    </tr>\n",
              "    <tr>\n",
              "      <th>marital-status</th>\n",
              "      <th></th>\n",
              "      <th></th>\n",
              "    </tr>\n",
              "  </thead>\n",
              "  <tbody>\n",
              "    <tr>\n",
              "      <th>Divorced</th>\n",
              "      <td>13</td>\n",
              "      <td>0</td>\n",
              "    </tr>\n",
              "    <tr>\n",
              "      <th>Married-civ-spouse</th>\n",
              "      <td>10</td>\n",
              "      <td>17</td>\n",
              "    </tr>\n",
              "    <tr>\n",
              "      <th>Never-married</th>\n",
              "      <td>18</td>\n",
              "      <td>1</td>\n",
              "    </tr>\n",
              "    <tr>\n",
              "      <th>Separated</th>\n",
              "      <td>3</td>\n",
              "      <td>0</td>\n",
              "    </tr>\n",
              "    <tr>\n",
              "      <th>Widowed</th>\n",
              "      <td>3</td>\n",
              "      <td>0</td>\n",
              "    </tr>\n",
              "  </tbody>\n",
              "</table>\n",
              "</div>"
            ],
            "text/plain": [
              "Income               0   1\n",
              "marital-status            \n",
              "Divorced            13   0\n",
              "Married-civ-spouse  10  17\n",
              "Never-married       18   1\n",
              "Separated            3   0\n",
              "Widowed              3   0"
            ]
          },
          "metadata": {
            "tags": []
          },
          "execution_count": 389
        }
      ]
    },
    {
      "cell_type": "code",
      "metadata": {
        "colab": {
          "base_uri": "https://localhost:8080/"
        },
        "id": "0wy7VU3TO_1v",
        "outputId": "fd1ccd7a-9469-47e9-a46e-33a2b1185c68"
      },
      "source": [
        "stat, p, dof, expected = chi2_contingency(c_t)\n",
        "print('dof=%d'%dof)\n",
        "print('p_value',p)\n",
        "print(expected)"
      ],
      "execution_count": 390,
      "outputs": [
        {
          "output_type": "stream",
          "text": [
            "dof=4\n",
            "p_value 8.48609524507223e-06\n",
            "[[ 9.4         3.6       ]\n",
            " [19.52307692  7.47692308]\n",
            " [13.73846154  5.26153846]\n",
            " [ 2.16923077  0.83076923]\n",
            " [ 2.16923077  0.83076923]]\n"
          ],
          "name": "stdout"
        }
      ]
    },
    {
      "cell_type": "code",
      "metadata": {
        "colab": {
          "base_uri": "https://localhost:8080/"
        },
        "id": "4phl4sisO_1v",
        "outputId": "baf42c2e-5b4b-417f-fe6a-6e3efb7a39e3"
      },
      "source": [
        "prob=0.95\n",
        "critical = chi2.ppf(prob,dof)\n",
        "print('probability=%.3f, critical=%.3f, stat=%.3f'%(prob,critical,stat))"
      ],
      "execution_count": 391,
      "outputs": [
        {
          "output_type": "stream",
          "text": [
            "probability=0.950, critical=9.488, stat=28.824\n"
          ],
          "name": "stdout"
        }
      ]
    },
    {
      "cell_type": "markdown",
      "metadata": {
        "id": "jPA3ZH5pO_1v"
      },
      "source": [
        "Reject Null Hypothesis\n",
        "#### Marital-status and Income are dependent"
      ]
    },
    {
      "cell_type": "markdown",
      "metadata": {
        "id": "J4255gtSO_1v"
      },
      "source": [
        "### OCCUPATION"
      ]
    },
    {
      "cell_type": "code",
      "metadata": {
        "colab": {
          "base_uri": "https://localhost:8080/",
          "height": 468
        },
        "id": "UeUa0M-wO_1v",
        "outputId": "58cea498-e242-407b-bf79-5fc1c1feaa21"
      },
      "source": [
        "plt.figure(figsize=(25,10))\n",
        "total = float(len(dataset['Income']))\n",
        "\n",
        "ax = sns.countplot(x='occupation', hue='Income',data=dataset)\n",
        "for p in ax.patches:\n",
        "    height = p.get_height()\n",
        "    ax.text(p.get_x() + p.get_width()/2.,\n",
        "           height + 3,\n",
        "           '{:1.2f}'.format((height/total)*100),\n",
        "           ha='center')"
      ],
      "execution_count": 392,
      "outputs": [
        {
          "output_type": "display_data",
          "data": {
            "image/png": "[encoded data removed]",
            "text/plain": [
              "<Figure size 1800x720 with 1 Axes>"
            ]
          },
          "metadata": {
            "tags": [],
            "needs_background": "light"
          }
        }
      ]
    },
    {
      "cell_type": "markdown",
      "metadata": {
        "id": "A6LtxPxfkH1R"
      },
      "source": [
        "#### Hypothesis Testing beteen Occupation and Income"
      ]
    },
    {
      "cell_type": "code",
      "metadata": {
        "colab": {
          "base_uri": "https://localhost:8080/",
          "height": 418
        },
        "id": "oDSig9MJO_1v",
        "outputId": "912e0298-6ce4-451a-f112-5aae353597ce"
      },
      "source": [
        "c_t = pd.crosstab(dataset['occupation'].sample(frac=0.002, replace=True,random_state=42),\n",
        "                 dataset['Income'].sample(frac=0.002,replace=True,random_state=42), margins=False)\n",
        "c_t"
      ],
      "execution_count": 393,
      "outputs": [
        {
          "output_type": "execute_result",
          "data": {
            "text/html": [
              "<div>\n",
              "<style scoped>\n",
              "    .dataframe tbody tr th:only-of-type {\n",
              "        vertical-align: middle;\n",
              "    }\n",
              "\n",
              "    .dataframe tbody tr th {\n",
              "        vertical-align: top;\n",
              "    }\n",
              "\n",
              "    .dataframe thead th {\n",
              "        text-align: right;\n",
              "    }\n",
              "</style>\n",
              "<table border=\"1\" class=\"dataframe\">\n",
              "  <thead>\n",
              "    <tr style=\"text-align: right;\">\n",
              "      <th>Income</th>\n",
              "      <th>0</th>\n",
              "      <th>1</th>\n",
              "    </tr>\n",
              "    <tr>\n",
              "      <th>occupation</th>\n",
              "      <th></th>\n",
              "      <th></th>\n",
              "    </tr>\n",
              "  </thead>\n",
              "  <tbody>\n",
              "    <tr>\n",
              "      <th>Adm-clerical</th>\n",
              "      <td>7</td>\n",
              "      <td>0</td>\n",
              "    </tr>\n",
              "    <tr>\n",
              "      <th>Craft-repair</th>\n",
              "      <td>6</td>\n",
              "      <td>1</td>\n",
              "    </tr>\n",
              "    <tr>\n",
              "      <th>Exec-managerial</th>\n",
              "      <td>4</td>\n",
              "      <td>7</td>\n",
              "    </tr>\n",
              "    <tr>\n",
              "      <th>Farming-fishing</th>\n",
              "      <td>3</td>\n",
              "      <td>0</td>\n",
              "    </tr>\n",
              "    <tr>\n",
              "      <th>Handlers-cleaners</th>\n",
              "      <td>2</td>\n",
              "      <td>1</td>\n",
              "    </tr>\n",
              "    <tr>\n",
              "      <th>Machine-op-inspct</th>\n",
              "      <td>6</td>\n",
              "      <td>0</td>\n",
              "    </tr>\n",
              "    <tr>\n",
              "      <th>Other-service</th>\n",
              "      <td>5</td>\n",
              "      <td>0</td>\n",
              "    </tr>\n",
              "    <tr>\n",
              "      <th>Priv-house-serv</th>\n",
              "      <td>1</td>\n",
              "      <td>0</td>\n",
              "    </tr>\n",
              "    <tr>\n",
              "      <th>Prof-specialty</th>\n",
              "      <td>8</td>\n",
              "      <td>3</td>\n",
              "    </tr>\n",
              "    <tr>\n",
              "      <th>Sales</th>\n",
              "      <td>2</td>\n",
              "      <td>5</td>\n",
              "    </tr>\n",
              "    <tr>\n",
              "      <th>Transport-moving</th>\n",
              "      <td>3</td>\n",
              "      <td>1</td>\n",
              "    </tr>\n",
              "  </tbody>\n",
              "</table>\n",
              "</div>"
            ],
            "text/plain": [
              "Income             0  1\n",
              "occupation             \n",
              "Adm-clerical       7  0\n",
              "Craft-repair       6  1\n",
              "Exec-managerial    4  7\n",
              "Farming-fishing    3  0\n",
              "Handlers-cleaners  2  1\n",
              "Machine-op-inspct  6  0\n",
              "Other-service      5  0\n",
              "Priv-house-serv    1  0\n",
              "Prof-specialty     8  3\n",
              "Sales              2  5\n",
              "Transport-moving   3  1"
            ]
          },
          "metadata": {
            "tags": []
          },
          "execution_count": 393
        }
      ]
    },
    {
      "cell_type": "code",
      "metadata": {
        "colab": {
          "base_uri": "https://localhost:8080/"
        },
        "id": "4HOBy6xFO_1w",
        "outputId": "3abd8b18-c95e-409f-e882-3c155a83ea7b"
      },
      "source": [
        "stat,p,dof,expected = chi2_contingency(c_t)\n",
        "print('dof=%d'%dof)\n",
        "print('pvalue',p)\n",
        "print(expected)"
      ],
      "execution_count": 394,
      "outputs": [
        {
          "output_type": "stream",
          "text": [
            "dof=10\n",
            "pvalue 0.01111585655967645\n",
            "[[5.06153846 1.93846154]\n",
            " [5.06153846 1.93846154]\n",
            " [7.95384615 3.04615385]\n",
            " [2.16923077 0.83076923]\n",
            " [2.16923077 0.83076923]\n",
            " [4.33846154 1.66153846]\n",
            " [3.61538462 1.38461538]\n",
            " [0.72307692 0.27692308]\n",
            " [7.95384615 3.04615385]\n",
            " [5.06153846 1.93846154]\n",
            " [2.89230769 1.10769231]]\n"
          ],
          "name": "stdout"
        }
      ]
    },
    {
      "cell_type": "code",
      "metadata": {
        "colab": {
          "base_uri": "https://localhost:8080/"
        },
        "id": "Cco2Y3iyO_1w",
        "outputId": "194e5a06-5b7e-4ce3-8c6d-08d76e7176d9"
      },
      "source": [
        "prob=0.95\n",
        "critical = chi2.ppf(prob,dof)\n",
        "print('probability = %.3f critical = %.3f statistic = %.3f' %(prob,critical,stat))"
      ],
      "execution_count": 395,
      "outputs": [
        {
          "output_type": "stream",
          "text": [
            "probability = 0.950 critical = 18.307 statistic = 22.902\n"
          ],
          "name": "stdout"
        }
      ]
    },
    {
      "cell_type": "markdown",
      "metadata": {
        "id": "SBEFcrcPO_1w"
      },
      "source": [
        "Reject Null Hypothesis\n",
        "\n",
        "#### Occupation and Income are dependent"
      ]
    },
    {
      "cell_type": "markdown",
      "metadata": {
        "id": "t_tcXkWiO_1w"
      },
      "source": [
        "### RELATIONSHIP"
      ]
    },
    {
      "cell_type": "code",
      "metadata": {
        "colab": {
          "base_uri": "https://localhost:8080/",
          "height": 606
        },
        "id": "OYGgnXE6O_1w",
        "outputId": "5fd50e4e-84e3-4461-bb65-3dd842f6b8db"
      },
      "source": [
        "plt.figure(figsize=(17,10))\n",
        "total = float(len(dataset['Income']))\n",
        "\n",
        "ax = sns.countplot(x='relationship', hue='Income', data=dataset)\n",
        "for p in ax.patches:\n",
        "    height = p.get_height()\n",
        "    ax.text(p.get_x() + p.get_width()/2.,\n",
        "           height + 3,\n",
        "           '{:1.2f}'.format((height/total)*100),\n",
        "           ha='center')"
      ],
      "execution_count": 396,
      "outputs": [
        {
          "output_type": "display_data",
          "data": {
            "image/png": "[encoded data removed]",
            "text/plain": [
              "<Figure size 1224x720 with 1 Axes>"
            ]
          },
          "metadata": {
            "tags": [],
            "needs_background": "light"
          }
        }
      ]
    },
    {
      "cell_type": "markdown",
      "metadata": {
        "id": "1ZjYBR5KkKBp"
      },
      "source": [
        "#### Hypothesis Testing beteen Relationship and Income"
      ]
    },
    {
      "cell_type": "code",
      "metadata": {
        "colab": {
          "base_uri": "https://localhost:8080/",
          "height": 265
        },
        "id": "B4E7r5uSO_1w",
        "outputId": "e9c77f62-4f6f-48ca-c58a-9970e03143cc"
      },
      "source": [
        "c_t = pd.crosstab(dataset['relationship'].sample(frac=0.002,random_state=42),\n",
        "                 dataset['Income'].sample(frac=0.002,random_state=42), margins=False)\n",
        "c_t"
      ],
      "execution_count": 397,
      "outputs": [
        {
          "output_type": "execute_result",
          "data": {
            "text/html": [
              "<div>\n",
              "<style scoped>\n",
              "    .dataframe tbody tr th:only-of-type {\n",
              "        vertical-align: middle;\n",
              "    }\n",
              "\n",
              "    .dataframe tbody tr th {\n",
              "        vertical-align: top;\n",
              "    }\n",
              "\n",
              "    .dataframe thead th {\n",
              "        text-align: right;\n",
              "    }\n",
              "</style>\n",
              "<table border=\"1\" class=\"dataframe\">\n",
              "  <thead>\n",
              "    <tr style=\"text-align: right;\">\n",
              "      <th>Income</th>\n",
              "      <th>0</th>\n",
              "      <th>1</th>\n",
              "    </tr>\n",
              "    <tr>\n",
              "      <th>relationship</th>\n",
              "      <th></th>\n",
              "      <th></th>\n",
              "    </tr>\n",
              "  </thead>\n",
              "  <tbody>\n",
              "    <tr>\n",
              "      <th>Husband</th>\n",
              "      <td>6</td>\n",
              "      <td>16</td>\n",
              "    </tr>\n",
              "    <tr>\n",
              "      <th>Not-in-family</th>\n",
              "      <td>18</td>\n",
              "      <td>1</td>\n",
              "    </tr>\n",
              "    <tr>\n",
              "      <th>Other-relative</th>\n",
              "      <td>2</td>\n",
              "      <td>0</td>\n",
              "    </tr>\n",
              "    <tr>\n",
              "      <th>Own-child</th>\n",
              "      <td>8</td>\n",
              "      <td>0</td>\n",
              "    </tr>\n",
              "    <tr>\n",
              "      <th>Unmarried</th>\n",
              "      <td>10</td>\n",
              "      <td>0</td>\n",
              "    </tr>\n",
              "    <tr>\n",
              "      <th>Wife</th>\n",
              "      <td>3</td>\n",
              "      <td>1</td>\n",
              "    </tr>\n",
              "  </tbody>\n",
              "</table>\n",
              "</div>"
            ],
            "text/plain": [
              "Income            0   1\n",
              "relationship           \n",
              " Husband          6  16\n",
              " Not-in-family   18   1\n",
              " Other-relative   2   0\n",
              " Own-child        8   0\n",
              " Unmarried       10   0\n",
              " Wife             3   1"
            ]
          },
          "metadata": {
            "tags": []
          },
          "execution_count": 397
        }
      ]
    },
    {
      "cell_type": "code",
      "metadata": {
        "colab": {
          "base_uri": "https://localhost:8080/"
        },
        "id": "doZN34INO_1w",
        "outputId": "6cd931be-20b9-441a-ee35-9ebe092d6f87"
      },
      "source": [
        "stat,p,dof,expected = chi2_contingency(c_t)\n",
        "print('dof=%d'%dof)\n",
        "print('pvalue',p)\n",
        "print(expected)"
      ],
      "execution_count": 398,
      "outputs": [
        {
          "output_type": "stream",
          "text": [
            "dof=5\n",
            "pvalue 1.7027151935130967e-06\n",
            "[[15.90769231  6.09230769]\n",
            " [13.73846154  5.26153846]\n",
            " [ 1.44615385  0.55384615]\n",
            " [ 5.78461538  2.21538462]\n",
            " [ 7.23076923  2.76923077]\n",
            " [ 2.89230769  1.10769231]]\n"
          ],
          "name": "stdout"
        }
      ]
    },
    {
      "cell_type": "code",
      "metadata": {
        "colab": {
          "base_uri": "https://localhost:8080/"
        },
        "id": "hIzYOc_pO_1w",
        "outputId": "38a82d7b-0beb-4eb1-bae1-cbb5623c3a1d"
      },
      "source": [
        "prob=0.95\n",
        "critical = chi2.ppf(prob,dof)\n",
        "print('probability = %.3f critical = %.3f statistic = %.3f' %(prob,critical,stat))"
      ],
      "execution_count": 399,
      "outputs": [
        {
          "output_type": "stream",
          "text": [
            "probability = 0.950 critical = 11.070 statistic = 34.731\n"
          ],
          "name": "stdout"
        }
      ]
    },
    {
      "cell_type": "markdown",
      "metadata": {
        "id": "pcfiFL6oO_1x"
      },
      "source": [
        "Reject Null Hypothesis\n",
        "\n",
        "#### Relationship and Income are dependent"
      ]
    },
    {
      "cell_type": "markdown",
      "metadata": {
        "id": "zi2UrQW3O_1x"
      },
      "source": [
        "### RACE"
      ]
    },
    {
      "cell_type": "code",
      "metadata": {
        "colab": {
          "base_uri": "https://localhost:8080/",
          "height": 606
        },
        "id": "V3jemlGlO_1x",
        "outputId": "b8f046de-70d1-419a-de22-cb695e18b548"
      },
      "source": [
        "plt.figure(figsize=(17,10))\n",
        "total = float(len(dataset['Income']))\n",
        "\n",
        "ax = sns.countplot(x='race',hue='Income', data=dataset)\n",
        "for p in ax.patches:\n",
        "    height = p.get_height()\n",
        "    ax.text(p.get_x() + p.get_width()/2.,\n",
        "           height + 3,\n",
        "           '{:1.2f}'.format((height/total)*100),\n",
        "           ha='center')"
      ],
      "execution_count": 400,
      "outputs": [
        {
          "output_type": "display_data",
          "data": {
            "image/png": "[encoded data removed]",
            "text/plain": [
              "<Figure size 1224x720 with 1 Axes>"
            ]
          },
          "metadata": {
            "tags": [],
            "needs_background": "light"
          }
        }
      ]
    },
    {
      "cell_type": "markdown",
      "metadata": {
        "id": "lOLRRPpikMqb"
      },
      "source": [
        "#### Hypothesis Testing beteen Race and Income"
      ]
    },
    {
      "cell_type": "code",
      "metadata": {
        "colab": {
          "base_uri": "https://localhost:8080/",
          "height": 172
        },
        "id": "Cnon4eiIO_1x",
        "outputId": "5222ca62-865d-49dd-8ce4-20c590af51c8"
      },
      "source": [
        "c_t = pd.crosstab(dataset['race'].sample(frac=0.002, random_state=42),\n",
        "                 dataset['Income'].sample(frac=0.002,random_state=42), margins=False)\n",
        "c_t"
      ],
      "execution_count": 401,
      "outputs": [
        {
          "output_type": "execute_result",
          "data": {
            "text/html": [
              "<div>\n",
              "<style scoped>\n",
              "    .dataframe tbody tr th:only-of-type {\n",
              "        vertical-align: middle;\n",
              "    }\n",
              "\n",
              "    .dataframe tbody tr th {\n",
              "        vertical-align: top;\n",
              "    }\n",
              "\n",
              "    .dataframe thead th {\n",
              "        text-align: right;\n",
              "    }\n",
              "</style>\n",
              "<table border=\"1\" class=\"dataframe\">\n",
              "  <thead>\n",
              "    <tr style=\"text-align: right;\">\n",
              "      <th>Income</th>\n",
              "      <th>0</th>\n",
              "      <th>1</th>\n",
              "    </tr>\n",
              "    <tr>\n",
              "      <th>race</th>\n",
              "      <th></th>\n",
              "      <th></th>\n",
              "    </tr>\n",
              "  </thead>\n",
              "  <tbody>\n",
              "    <tr>\n",
              "      <th>Black</th>\n",
              "      <td>6</td>\n",
              "      <td>1</td>\n",
              "    </tr>\n",
              "    <tr>\n",
              "      <th>Other</th>\n",
              "      <td>2</td>\n",
              "      <td>1</td>\n",
              "    </tr>\n",
              "    <tr>\n",
              "      <th>White</th>\n",
              "      <td>39</td>\n",
              "      <td>16</td>\n",
              "    </tr>\n",
              "  </tbody>\n",
              "</table>\n",
              "</div>"
            ],
            "text/plain": [
              "Income   0   1\n",
              "race          \n",
              "Black    6   1\n",
              "Other    2   1\n",
              "White   39  16"
            ]
          },
          "metadata": {
            "tags": []
          },
          "execution_count": 401
        }
      ]
    },
    {
      "cell_type": "code",
      "metadata": {
        "colab": {
          "base_uri": "https://localhost:8080/"
        },
        "id": "DgBCcX-aO_1x",
        "outputId": "84930dcc-4937-48d6-f8d0-88657a2e9fc0"
      },
      "source": [
        "stat, p, dof, expected = chi2_contingency(c_t)\n",
        "print('dof=%d'%dof)\n",
        "print('pvalue', p)\n",
        "print(expected)"
      ],
      "execution_count": 402,
      "outputs": [
        {
          "output_type": "stream",
          "text": [
            "dof=2\n",
            "pvalue 0.6942872029370282\n",
            "[[ 5.06153846  1.93846154]\n",
            " [ 2.16923077  0.83076923]\n",
            " [39.76923077 15.23076923]]\n"
          ],
          "name": "stdout"
        }
      ]
    },
    {
      "cell_type": "code",
      "metadata": {
        "colab": {
          "base_uri": "https://localhost:8080/"
        },
        "id": "VhmAI-MJO_1x",
        "outputId": "39f100ef-f30b-4ed7-a898-2cb801e20cc0"
      },
      "source": [
        "prob=0.95\n",
        "critical = chi2.ppf(prob, dof)\n",
        "print('probability = %.3f critical = %.3f statisitic = %.3f' %(prob,critical,stat))"
      ],
      "execution_count": 403,
      "outputs": [
        {
          "output_type": "stream",
          "text": [
            "probability = 0.950 critical = 5.991 statisitic = 0.730\n"
          ],
          "name": "stdout"
        }
      ]
    },
    {
      "cell_type": "markdown",
      "metadata": {
        "id": "-tw5Ik_aO_1x"
      },
      "source": [
        "Accept Null Hypothesis\n",
        "\n",
        "#### Race and Income are independent"
      ]
    },
    {
      "cell_type": "markdown",
      "metadata": {
        "id": "KP8P42KqO_1y"
      },
      "source": [
        "### GENDER"
      ]
    },
    {
      "cell_type": "code",
      "metadata": {
        "colab": {
          "base_uri": "https://localhost:8080/",
          "height": 606
        },
        "id": "9YX1MyUbO_1y",
        "outputId": "2d0a9de7-8708-4482-9487-97c88e1acb19"
      },
      "source": [
        "plt.figure(figsize=(17,10))\n",
        "total = float(len(dataset['Income']))\n",
        "\n",
        "ax = sns.countplot(x='sex',hue='Income', data=dataset)\n",
        "for p in ax.patches:\n",
        "    height = p.get_height()\n",
        "    ax.text(p.get_x() + p.get_width()/2.,\n",
        "           height + 3,\n",
        "           '{:1.2f}'.format((height/total)*100),\n",
        "           ha='center')"
      ],
      "execution_count": 404,
      "outputs": [
        {
          "output_type": "display_data",
          "data": {
            "image/png": "[encoded data removed]",
            "text/plain": [
              "<Figure size 1224x720 with 1 Axes>"
            ]
          },
          "metadata": {
            "tags": [],
            "needs_background": "light"
          }
        }
      ]
    },
    {
      "cell_type": "markdown",
      "metadata": {
        "id": "s8xzSCxykP9s"
      },
      "source": [
        "#### Hypothesis Testing beteen Gender and Income"
      ]
    },
    {
      "cell_type": "code",
      "metadata": {
        "colab": {
          "base_uri": "https://localhost:8080/",
          "height": 142
        },
        "id": "OhTjzZVpO_1y",
        "outputId": "19cd563e-1802-4802-b08e-5c3000749a8d"
      },
      "source": [
        "c_t = pd.crosstab(dataset['sex'].sample(frac=0.002,random_state=42),\n",
        "                 dataset['Income'].sample(frac=0.002,random_state=42), margins=False)\n",
        "c_t"
      ],
      "execution_count": 405,
      "outputs": [
        {
          "output_type": "execute_result",
          "data": {
            "text/html": [
              "<div>\n",
              "<style scoped>\n",
              "    .dataframe tbody tr th:only-of-type {\n",
              "        vertical-align: middle;\n",
              "    }\n",
              "\n",
              "    .dataframe tbody tr th {\n",
              "        vertical-align: top;\n",
              "    }\n",
              "\n",
              "    .dataframe thead th {\n",
              "        text-align: right;\n",
              "    }\n",
              "</style>\n",
              "<table border=\"1\" class=\"dataframe\">\n",
              "  <thead>\n",
              "    <tr style=\"text-align: right;\">\n",
              "      <th>Income</th>\n",
              "      <th>0</th>\n",
              "      <th>1</th>\n",
              "    </tr>\n",
              "    <tr>\n",
              "      <th>sex</th>\n",
              "      <th></th>\n",
              "      <th></th>\n",
              "    </tr>\n",
              "  </thead>\n",
              "  <tbody>\n",
              "    <tr>\n",
              "      <th>Female</th>\n",
              "      <td>25</td>\n",
              "      <td>1</td>\n",
              "    </tr>\n",
              "    <tr>\n",
              "      <th>Male</th>\n",
              "      <td>22</td>\n",
              "      <td>17</td>\n",
              "    </tr>\n",
              "  </tbody>\n",
              "</table>\n",
              "</div>"
            ],
            "text/plain": [
              "Income    0   1\n",
              "sex            \n",
              " Female  25   1\n",
              " Male    22  17"
            ]
          },
          "metadata": {
            "tags": []
          },
          "execution_count": 405
        }
      ]
    },
    {
      "cell_type": "code",
      "metadata": {
        "colab": {
          "base_uri": "https://localhost:8080/"
        },
        "id": "9BSzDaelO_1y",
        "outputId": "a4ca0e80-f270-47dc-855f-227f20773c09"
      },
      "source": [
        "stat, p, dof, expected = chi2_contingency(c_t)\n",
        "print('dof=%d'%dof)\n",
        "print('pvalue', p)\n",
        "print(expected)"
      ],
      "execution_count": 406,
      "outputs": [
        {
          "output_type": "stream",
          "text": [
            "dof=1\n",
            "pvalue 0.0012593668902692455\n",
            "[[18.8  7.2]\n",
            " [28.2 10.8]]\n"
          ],
          "name": "stdout"
        }
      ]
    },
    {
      "cell_type": "code",
      "metadata": {
        "colab": {
          "base_uri": "https://localhost:8080/"
        },
        "id": "593bwx6rO_1y",
        "outputId": "ec1974e1-ca69-4627-8939-fcde9b988654"
      },
      "source": [
        "prob=0.95\n",
        "critical = chi2.ppf(prob, dof)\n",
        "print('probability = %.3f critical = %.3f statisitic = %.3f' %(prob,critical,stat))"
      ],
      "execution_count": 407,
      "outputs": [
        {
          "output_type": "stream",
          "text": [
            "probability = 0.950 critical = 3.841 statisitic = 10.401\n"
          ],
          "name": "stdout"
        }
      ]
    },
    {
      "cell_type": "markdown",
      "metadata": {
        "id": "FIueolb8O_1y"
      },
      "source": [
        "Reject Null Hypothesis\n",
        "\n",
        "#### Gender and Income are dependent"
      ]
    },
    {
      "cell_type": "markdown",
      "metadata": {
        "id": "U6mRXb2FO_1y"
      },
      "source": [
        "### NATIVE-COUNTRY"
      ]
    },
    {
      "cell_type": "markdown",
      "metadata": {
        "id": "jO9ZRR8IkUmV"
      },
      "source": [
        "#### Hypothesis Testing beteen Native Country and Income"
      ]
    },
    {
      "cell_type": "code",
      "metadata": {
        "colab": {
          "base_uri": "https://localhost:8080/",
          "height": 265
        },
        "id": "TsQ-3oNVO_1y",
        "outputId": "24f36d15-7493-452e-bce3-6201dcba70c2"
      },
      "source": [
        "c_t = pd.crosstab(dataset['native-country'].sample(frac=0.002,random_state=42),\n",
        "                 dataset['Income'].sample(frac=0.002,random_state=42), margins=False)\n",
        "c_t"
      ],
      "execution_count": 408,
      "outputs": [
        {
          "output_type": "execute_result",
          "data": {
            "text/html": [
              "<div>\n",
              "<style scoped>\n",
              "    .dataframe tbody tr th:only-of-type {\n",
              "        vertical-align: middle;\n",
              "    }\n",
              "\n",
              "    .dataframe tbody tr th {\n",
              "        vertical-align: top;\n",
              "    }\n",
              "\n",
              "    .dataframe thead th {\n",
              "        text-align: right;\n",
              "    }\n",
              "</style>\n",
              "<table border=\"1\" class=\"dataframe\">\n",
              "  <thead>\n",
              "    <tr style=\"text-align: right;\">\n",
              "      <th>Income</th>\n",
              "      <th>0</th>\n",
              "      <th>1</th>\n",
              "    </tr>\n",
              "    <tr>\n",
              "      <th>native-country</th>\n",
              "      <th></th>\n",
              "      <th></th>\n",
              "    </tr>\n",
              "  </thead>\n",
              "  <tbody>\n",
              "    <tr>\n",
              "      <th>Columbia</th>\n",
              "      <td>1</td>\n",
              "      <td>0</td>\n",
              "    </tr>\n",
              "    <tr>\n",
              "      <th>El-Salvador</th>\n",
              "      <td>1</td>\n",
              "      <td>0</td>\n",
              "    </tr>\n",
              "    <tr>\n",
              "      <th>Mexico</th>\n",
              "      <td>1</td>\n",
              "      <td>0</td>\n",
              "    </tr>\n",
              "    <tr>\n",
              "      <th>Poland</th>\n",
              "      <td>1</td>\n",
              "      <td>0</td>\n",
              "    </tr>\n",
              "    <tr>\n",
              "      <th>Puerto-Rico</th>\n",
              "      <td>0</td>\n",
              "      <td>1</td>\n",
              "    </tr>\n",
              "    <tr>\n",
              "      <th>United-States</th>\n",
              "      <td>43</td>\n",
              "      <td>17</td>\n",
              "    </tr>\n",
              "  </tbody>\n",
              "</table>\n",
              "</div>"
            ],
            "text/plain": [
              "Income           0   1\n",
              "native-country        \n",
              "Columbia         1   0\n",
              "El-Salvador      1   0\n",
              "Mexico           1   0\n",
              "Poland           1   0\n",
              "Puerto-Rico      0   1\n",
              "United-States   43  17"
            ]
          },
          "metadata": {
            "tags": []
          },
          "execution_count": 408
        }
      ]
    },
    {
      "cell_type": "code",
      "metadata": {
        "colab": {
          "base_uri": "https://localhost:8080/"
        },
        "id": "psKmBd6SO_1z",
        "outputId": "08a7ea7d-fb4a-4def-92ee-59dbe4362575"
      },
      "source": [
        "stat, p, dof, expected = chi2_contingency(c_t)\n",
        "print('dof=%d'%dof)\n",
        "print('pvalue', p)\n",
        "print(expected)"
      ],
      "execution_count": 409,
      "outputs": [
        {
          "output_type": "stream",
          "text": [
            "dof=5\n",
            "pvalue 0.5272747858003257\n",
            "[[ 0.72307692  0.27692308]\n",
            " [ 0.72307692  0.27692308]\n",
            " [ 0.72307692  0.27692308]\n",
            " [ 0.72307692  0.27692308]\n",
            " [ 0.72307692  0.27692308]\n",
            " [43.38461538 16.61538462]]\n"
          ],
          "name": "stdout"
        }
      ]
    },
    {
      "cell_type": "code",
      "metadata": {
        "colab": {
          "base_uri": "https://localhost:8080/"
        },
        "id": "Np4A5bYjO_1z",
        "outputId": "7c83adec-973b-46d7-ed35-8e6aa88ba09d"
      },
      "source": [
        "prob=0.95\n",
        "critical = chi2.ppf(prob, dof)\n",
        "print('probability = %.3f critical = %.3f statisitic = %.3f' %(prob,critical,stat))"
      ],
      "execution_count": 410,
      "outputs": [
        {
          "output_type": "stream",
          "text": [
            "probability = 0.950 critical = 11.070 statisitic = 4.155\n"
          ],
          "name": "stdout"
        }
      ]
    },
    {
      "cell_type": "markdown",
      "metadata": {
        "id": "A-5biL3uO_1z"
      },
      "source": [
        "Fail to reject Null Hypothesis\n",
        "\n",
        "#### Native-country and Income are independent"
      ]
    },
    {
      "cell_type": "markdown",
      "metadata": {
        "id": "OhNRix0JkXLS"
      },
      "source": [
        "## Correlation Matrix of Numerical Features"
      ]
    },
    {
      "cell_type": "code",
      "metadata": {
        "colab": {
          "base_uri": "https://localhost:8080/",
          "height": 613
        },
        "id": "M4APYO9pO_1z",
        "outputId": "e332a9b1-4553-4797-9270-270a57ddc0fa"
      },
      "source": [
        "plt.figure(figsize=(15,10))\n",
        "sns.heatmap(dataset.corr(), annot=True, cmap='Blues')"
      ],
      "execution_count": 411,
      "outputs": [
        {
          "output_type": "execute_result",
          "data": {
            "text/plain": [
              "<matplotlib.axes._subplots.AxesSubplot at 0x7fad00b1dc90>"
            ]
          },
          "metadata": {
            "tags": []
          },
          "execution_count": 411
        },
        {
          "output_type": "display_data",
          "data": {
            "image/png": "[encoded data removed]",
            "text/plain": [
              "<Figure size 1080x720 with 2 Axes>"
            ]
          },
          "metadata": {
            "tags": [],
            "needs_background": "light"
          }
        }
      ]
    },
    {
      "cell_type": "markdown",
      "metadata": {
        "id": "KcF9JF81kikN"
      },
      "source": [
        "\n",
        "\n",
        "*   There is no strong correlation among the numeric attributes.\n",
        "\n",
        "*   There is neither strong positive nor strong negative correlation present in any variable .\n",
        "\n"
      ]
    },
    {
      "cell_type": "markdown",
      "metadata": {
        "id": "lKHTws3QkuDM"
      },
      "source": [
        "#### Extracting a new feature from \"capital-gain\" and \"capital-loss\" called \"capital-change\""
      ]
    },
    {
      "cell_type": "code",
      "metadata": {
        "colab": {
          "base_uri": "https://localhost:8080/"
        },
        "id": "Q_Yk0Q9ZO_1z",
        "outputId": "a143fd6b-f426-497b-dd35-3d5a97c685e5"
      },
      "source": [
        "dataset['capital-change'] = dataset['capital-gain'] - dataset['capital-loss']\n",
        "dataset['capital-change'].describe()"
      ],
      "execution_count": 412,
      "outputs": [
        {
          "output_type": "execute_result",
          "data": {
            "text/plain": [
              "count    32561.000000\n",
              "mean       990.345014\n",
              "std       7408.986951\n",
              "min      -4356.000000\n",
              "25%          0.000000\n",
              "50%          0.000000\n",
              "75%          0.000000\n",
              "max      99999.000000\n",
              "Name: capital-change, dtype: float64"
            ]
          },
          "metadata": {
            "tags": []
          },
          "execution_count": 412
        }
      ]
    },
    {
      "cell_type": "markdown",
      "metadata": {
        "id": "xPAWxI41k7T9"
      },
      "source": [
        "## Capital-Change"
      ]
    },
    {
      "cell_type": "code",
      "metadata": {
        "colab": {
          "base_uri": "https://localhost:8080/",
          "height": 500
        },
        "id": "ObLQr00IO_1z",
        "outputId": "525c0264-d3ba-483e-bfbf-cb19520abaac"
      },
      "source": [
        "dataset['capital-change'].hist(figsize=(10,8))"
      ],
      "execution_count": 413,
      "outputs": [
        {
          "output_type": "execute_result",
          "data": {
            "text/plain": [
              "<matplotlib.axes._subplots.AxesSubplot at 0x7fad09e287d0>"
            ]
          },
          "metadata": {
            "tags": []
          },
          "execution_count": 413
        },
        {
          "output_type": "display_data",
          "data": {
            "image/png": "[encoded data removed]",
            "text/plain": [
              "<Figure size 720x576 with 1 Axes>"
            ]
          },
          "metadata": {
            "tags": [],
            "needs_background": "light"
          }
        }
      ]
    },
    {
      "cell_type": "markdown",
      "metadata": {
        "id": "fb6yXAq_k981"
      },
      "source": [
        "#### Hypothesis Test between capital change and Income"
      ]
    },
    {
      "cell_type": "code",
      "metadata": {
        "id": "tnNfo0rkO_1z"
      },
      "source": [
        "data = dataset.copy()"
      ],
      "execution_count": 414,
      "outputs": []
    },
    {
      "cell_type": "code",
      "metadata": {
        "id": "c_QW9uApO_1z"
      },
      "source": [
        "data = data[np.abs(stats.zscore(data['capital-change'])) < 3]"
      ],
      "execution_count": 415,
      "outputs": []
    },
    {
      "cell_type": "code",
      "metadata": {
        "id": "jJmT7bCzO_10"
      },
      "source": [
        "income_1 = data[data['Income'] == 1]['capital-change']\n",
        "income_0 = data[data['Income'] == 0]['capital-change']"
      ],
      "execution_count": 416,
      "outputs": []
    },
    {
      "cell_type": "code",
      "metadata": {
        "id": "353ZiewBO_10"
      },
      "source": [
        "income_0 = income_0.values.tolist()\n",
        "income_0 = random.sample(income_0,100)\n",
        "income_1 = income_1.values.tolist()\n",
        "income_1 = random.sample(income_1,100)"
      ],
      "execution_count": 417,
      "outputs": []
    },
    {
      "cell_type": "code",
      "metadata": {
        "colab": {
          "base_uri": "https://localhost:8080/"
        },
        "id": "eiW7jTNPO_10",
        "outputId": "d3cc8fc6-8e25-4d52-a04e-914efaa0634b"
      },
      "source": [
        "tt, pval = ttest_ind(income_1,income_0,equal_var=False)\n",
        "print('ttest',tt)\n",
        "print('pvalue',pval)"
      ],
      "execution_count": 418,
      "outputs": [
        {
          "output_type": "stream",
          "text": [
            "ttest 2.7570871688306626\n",
            "pvalue 0.006794874638681867\n"
          ],
          "name": "stdout"
        }
      ]
    },
    {
      "cell_type": "markdown",
      "metadata": {
        "id": "g7e87OA2O_10"
      },
      "source": [
        "Reject Null Hypothesis\n",
        "\n",
        "#### Capital-change and Income are dependent"
      ]
    },
    {
      "cell_type": "code",
      "metadata": {
        "colab": {
          "base_uri": "https://localhost:8080/",
          "height": 391
        },
        "id": "8UTCpPoEO_10",
        "outputId": "2c7262d4-1286-4b30-f1b6-2ffeca156873"
      },
      "source": [
        "dataset.head()"
      ],
      "execution_count": 419,
      "outputs": [
        {
          "output_type": "execute_result",
          "data": {
            "text/html": [
              "<div>\n",
              "<style scoped>\n",
              "    .dataframe tbody tr th:only-of-type {\n",
              "        vertical-align: middle;\n",
              "    }\n",
              "\n",
              "    .dataframe tbody tr th {\n",
              "        vertical-align: top;\n",
              "    }\n",
              "\n",
              "    .dataframe thead th {\n",
              "        text-align: right;\n",
              "    }\n",
              "</style>\n",
              "<table border=\"1\" class=\"dataframe\">\n",
              "  <thead>\n",
              "    <tr style=\"text-align: right;\">\n",
              "      <th></th>\n",
              "      <th>age</th>\n",
              "      <th>workclass</th>\n",
              "      <th>fnlwgt</th>\n",
              "      <th>education</th>\n",
              "      <th>education-num</th>\n",
              "      <th>marital-status</th>\n",
              "      <th>occupation</th>\n",
              "      <th>relationship</th>\n",
              "      <th>race</th>\n",
              "      <th>sex</th>\n",
              "      <th>capital-gain</th>\n",
              "      <th>capital-loss</th>\n",
              "      <th>hours-per-week</th>\n",
              "      <th>native-country</th>\n",
              "      <th>Income</th>\n",
              "      <th>capital-change</th>\n",
              "    </tr>\n",
              "  </thead>\n",
              "  <tbody>\n",
              "    <tr>\n",
              "      <th>0</th>\n",
              "      <td>39</td>\n",
              "      <td>State-gov</td>\n",
              "      <td>77516</td>\n",
              "      <td>Bachelors</td>\n",
              "      <td>13</td>\n",
              "      <td>Never-married</td>\n",
              "      <td>Adm-clerical</td>\n",
              "      <td>Not-in-family</td>\n",
              "      <td>White</td>\n",
              "      <td>Male</td>\n",
              "      <td>2174</td>\n",
              "      <td>0</td>\n",
              "      <td>40</td>\n",
              "      <td>United-States</td>\n",
              "      <td>0</td>\n",
              "      <td>2174</td>\n",
              "    </tr>\n",
              "    <tr>\n",
              "      <th>1</th>\n",
              "      <td>50</td>\n",
              "      <td>Self-emp-not-inc</td>\n",
              "      <td>83311</td>\n",
              "      <td>Bachelors</td>\n",
              "      <td>13</td>\n",
              "      <td>Married-civ-spouse</td>\n",
              "      <td>Exec-managerial</td>\n",
              "      <td>Husband</td>\n",
              "      <td>White</td>\n",
              "      <td>Male</td>\n",
              "      <td>0</td>\n",
              "      <td>0</td>\n",
              "      <td>13</td>\n",
              "      <td>United-States</td>\n",
              "      <td>0</td>\n",
              "      <td>0</td>\n",
              "    </tr>\n",
              "    <tr>\n",
              "      <th>2</th>\n",
              "      <td>38</td>\n",
              "      <td>Private</td>\n",
              "      <td>215646</td>\n",
              "      <td>HS-grad</td>\n",
              "      <td>9</td>\n",
              "      <td>Divorced</td>\n",
              "      <td>Handlers-cleaners</td>\n",
              "      <td>Not-in-family</td>\n",
              "      <td>White</td>\n",
              "      <td>Male</td>\n",
              "      <td>0</td>\n",
              "      <td>0</td>\n",
              "      <td>40</td>\n",
              "      <td>United-States</td>\n",
              "      <td>0</td>\n",
              "      <td>0</td>\n",
              "    </tr>\n",
              "    <tr>\n",
              "      <th>3</th>\n",
              "      <td>53</td>\n",
              "      <td>Private</td>\n",
              "      <td>234721</td>\n",
              "      <td>11th</td>\n",
              "      <td>7</td>\n",
              "      <td>Married-civ-spouse</td>\n",
              "      <td>Handlers-cleaners</td>\n",
              "      <td>Husband</td>\n",
              "      <td>Black</td>\n",
              "      <td>Male</td>\n",
              "      <td>0</td>\n",
              "      <td>0</td>\n",
              "      <td>40</td>\n",
              "      <td>United-States</td>\n",
              "      <td>0</td>\n",
              "      <td>0</td>\n",
              "    </tr>\n",
              "    <tr>\n",
              "      <th>4</th>\n",
              "      <td>28</td>\n",
              "      <td>Private</td>\n",
              "      <td>338409</td>\n",
              "      <td>Bachelors</td>\n",
              "      <td>13</td>\n",
              "      <td>Married-civ-spouse</td>\n",
              "      <td>Prof-specialty</td>\n",
              "      <td>Wife</td>\n",
              "      <td>Black</td>\n",
              "      <td>Female</td>\n",
              "      <td>0</td>\n",
              "      <td>0</td>\n",
              "      <td>40</td>\n",
              "      <td>Cuba</td>\n",
              "      <td>0</td>\n",
              "      <td>0</td>\n",
              "    </tr>\n",
              "  </tbody>\n",
              "</table>\n",
              "</div>"
            ],
            "text/plain": [
              "   age         workclass  fnlwgt  ... native-country  Income capital-change\n",
              "0   39         State-gov   77516  ...  United-States       0           2174\n",
              "1   50  Self-emp-not-inc   83311  ...  United-States       0              0\n",
              "2   38           Private  215646  ...  United-States       0              0\n",
              "3   53           Private  234721  ...  United-States       0              0\n",
              "4   28           Private  338409  ...           Cuba       0              0\n",
              "\n",
              "[5 rows x 16 columns]"
            ]
          },
          "metadata": {
            "tags": []
          },
          "execution_count": 419
        }
      ]
    },
    {
      "cell_type": "markdown",
      "metadata": {
        "id": "isBWNuWOlOxF"
      },
      "source": [
        "Dropping features after failing to reject Hypothesis Testing and \"capital-gain\" and \"capital-loss\". \n",
        "\n",
        "Alos dropping \"education-num\" as it gives exact info as \"education\""
      ]
    },
    {
      "cell_type": "code",
      "metadata": {
        "id": "bhQdOROGO_10"
      },
      "source": [
        "dataset.drop(['workclass','fnlwgt','education-num', 'capital-loss','capital-gain','native-country'],axis=1,inplace=True)"
      ],
      "execution_count": 420,
      "outputs": []
    },
    {
      "cell_type": "code",
      "metadata": {
        "id": "KZmmQBhlO_10"
      },
      "source": [
        "dataset['education'] = dataset['education'].str.replace(\" \",\"\")\n",
        "dataset['marital-status'] = dataset['marital-status'].str.replace(\" \",\"\")\n",
        "dataset['occupation'] = dataset['occupation'].str.replace(\" \",\"\")\n",
        "dataset['race'] = dataset['race'].str.replace(\" \",\"\")\n",
        "dataset['relationship'] = dataset['relationship'].str.replace(\" \",\"\")\n",
        "dataset['sex'] = dataset['sex'].str.replace(\" \",\"\")"
      ],
      "execution_count": 421,
      "outputs": []
    },
    {
      "cell_type": "code",
      "metadata": {
        "id": "f0yOv1YlO_11"
      },
      "source": [
        "data = dataset.copy()"
      ],
      "execution_count": 422,
      "outputs": []
    },
    {
      "cell_type": "markdown",
      "metadata": {
        "id": "KDRApDePloDm"
      },
      "source": [
        "## Mapping Categorical Features to Numeric Values"
      ]
    },
    {
      "cell_type": "code",
      "metadata": {
        "id": "EQ-Qcc5IO_11"
      },
      "source": [
        "data['education'] = data['education'].map({'Some-college': 0, 'Preschool': 1, '5th-6th': 2, 'HS-grad': 3, 'Masters': 4, '12th': 5, '7th-8th': 6, 'Prof-school': 7,'1st-4th': 8, 'Assoc-acdm': 9, 'Doctorate': 10, '11th': 11,'Bachelors': 12, '10th': 13,'Assoc-voc': 14,'9th': 15}).astype(int)"
      ],
      "execution_count": 423,
      "outputs": []
    },
    {
      "cell_type": "code",
      "metadata": {
        "id": "C5SYoJYPO_11"
      },
      "source": [
        "data['occupation'] = data['occupation'].map({ 'Farming-fishing': 1, 'Tech-support': 2, 'Adm-clerical': 3, 'Handlers-cleaners': 4, \n",
        " 'Prof-specialty': 5,'Machine-op-inspct': 6, 'Exec-managerial': 7,'Priv-house-serv': 8,'Craft-repair': 9,'Sales': 10, 'Transport-moving': 11, 'Armed-Forces': 12, 'Other-service': 13,'Protective-serv':14}).astype(int)"
      ],
      "execution_count": 424,
      "outputs": []
    },
    {
      "cell_type": "code",
      "metadata": {
        "id": "GutKGTWBO_11"
      },
      "source": [
        "data['relationship'] = data['relationship'].map({'Not-in-family': 0, 'Wife': 1, 'Other-relative': 2, 'Unmarried': 3,'Husband': 4,'Own-child': 5}).astype(int)"
      ],
      "execution_count": 425,
      "outputs": []
    },
    {
      "cell_type": "code",
      "metadata": {
        "id": "2qPt5MrlO_11"
      },
      "source": [
        "data['marital-status'] = data['marital-status'].map({'Married-spouse-absent': 0, 'Widowed': 1, 'Married-civ-spouse': 2, 'Separated': 3, 'Divorced': 4,'Never-married': 5, 'Married-AF-spouse': 6}).astype(int)"
      ],
      "execution_count": 426,
      "outputs": []
    },
    {
      "cell_type": "code",
      "metadata": {
        "id": "QR_y1TTUO_11"
      },
      "source": [
        "data['race'] = data['race'].map({'Black': 0, 'Asian-Pac-Islander': 1, 'Other': 2, 'White': 3, 'Amer-Indian-Eskimo': 4}).astype(int)"
      ],
      "execution_count": 427,
      "outputs": []
    },
    {
      "cell_type": "code",
      "metadata": {
        "id": "fob1c3m_O_11"
      },
      "source": [
        "data['sex'] = data['sex'].map({'Male': 0, 'Female': 1}).astype(int)"
      ],
      "execution_count": 428,
      "outputs": []
    },
    {
      "cell_type": "code",
      "metadata": {
        "colab": {
          "base_uri": "https://localhost:8080/",
          "height": 203
        },
        "id": "BTBLTP8HO_11",
        "outputId": "108061ac-195d-49cf-f043-781e9b38cee6"
      },
      "source": [
        "data.head()"
      ],
      "execution_count": 429,
      "outputs": [
        {
          "output_type": "execute_result",
          "data": {
            "text/html": [
              "<div>\n",
              "<style scoped>\n",
              "    .dataframe tbody tr th:only-of-type {\n",
              "        vertical-align: middle;\n",
              "    }\n",
              "\n",
              "    .dataframe tbody tr th {\n",
              "        vertical-align: top;\n",
              "    }\n",
              "\n",
              "    .dataframe thead th {\n",
              "        text-align: right;\n",
              "    }\n",
              "</style>\n",
              "<table border=\"1\" class=\"dataframe\">\n",
              "  <thead>\n",
              "    <tr style=\"text-align: right;\">\n",
              "      <th></th>\n",
              "      <th>age</th>\n",
              "      <th>education</th>\n",
              "      <th>marital-status</th>\n",
              "      <th>occupation</th>\n",
              "      <th>relationship</th>\n",
              "      <th>race</th>\n",
              "      <th>sex</th>\n",
              "      <th>hours-per-week</th>\n",
              "      <th>Income</th>\n",
              "      <th>capital-change</th>\n",
              "    </tr>\n",
              "  </thead>\n",
              "  <tbody>\n",
              "    <tr>\n",
              "      <th>0</th>\n",
              "      <td>39</td>\n",
              "      <td>12</td>\n",
              "      <td>5</td>\n",
              "      <td>3</td>\n",
              "      <td>0</td>\n",
              "      <td>3</td>\n",
              "      <td>0</td>\n",
              "      <td>40</td>\n",
              "      <td>0</td>\n",
              "      <td>2174</td>\n",
              "    </tr>\n",
              "    <tr>\n",
              "      <th>1</th>\n",
              "      <td>50</td>\n",
              "      <td>12</td>\n",
              "      <td>2</td>\n",
              "      <td>7</td>\n",
              "      <td>4</td>\n",
              "      <td>3</td>\n",
              "      <td>0</td>\n",
              "      <td>13</td>\n",
              "      <td>0</td>\n",
              "      <td>0</td>\n",
              "    </tr>\n",
              "    <tr>\n",
              "      <th>2</th>\n",
              "      <td>38</td>\n",
              "      <td>3</td>\n",
              "      <td>4</td>\n",
              "      <td>4</td>\n",
              "      <td>0</td>\n",
              "      <td>3</td>\n",
              "      <td>0</td>\n",
              "      <td>40</td>\n",
              "      <td>0</td>\n",
              "      <td>0</td>\n",
              "    </tr>\n",
              "    <tr>\n",
              "      <th>3</th>\n",
              "      <td>53</td>\n",
              "      <td>11</td>\n",
              "      <td>2</td>\n",
              "      <td>4</td>\n",
              "      <td>4</td>\n",
              "      <td>0</td>\n",
              "      <td>0</td>\n",
              "      <td>40</td>\n",
              "      <td>0</td>\n",
              "      <td>0</td>\n",
              "    </tr>\n",
              "    <tr>\n",
              "      <th>4</th>\n",
              "      <td>28</td>\n",
              "      <td>12</td>\n",
              "      <td>2</td>\n",
              "      <td>5</td>\n",
              "      <td>1</td>\n",
              "      <td>0</td>\n",
              "      <td>1</td>\n",
              "      <td>40</td>\n",
              "      <td>0</td>\n",
              "      <td>0</td>\n",
              "    </tr>\n",
              "  </tbody>\n",
              "</table>\n",
              "</div>"
            ],
            "text/plain": [
              "   age  education  marital-status  ...  hours-per-week  Income  capital-change\n",
              "0   39         12               5  ...              40       0            2174\n",
              "1   50         12               2  ...              13       0               0\n",
              "2   38          3               4  ...              40       0               0\n",
              "3   53         11               2  ...              40       0               0\n",
              "4   28         12               2  ...              40       0               0\n",
              "\n",
              "[5 rows x 10 columns]"
            ]
          },
          "metadata": {
            "tags": []
          },
          "execution_count": 429
        }
      ]
    },
    {
      "cell_type": "markdown",
      "metadata": {
        "id": "aZDJnndKlt55"
      },
      "source": [
        "## Splitting dataset into Training and Test Set"
      ]
    },
    {
      "cell_type": "code",
      "metadata": {
        "id": "EDhk1jC9O_11"
      },
      "source": [
        "y = data.loc[:,'Income'].values"
      ],
      "execution_count": 430,
      "outputs": []
    },
    {
      "cell_type": "code",
      "metadata": {
        "id": "DGbgFKhXO_11"
      },
      "source": [
        "data.drop('Income',axis=1,inplace=True)"
      ],
      "execution_count": 431,
      "outputs": []
    },
    {
      "cell_type": "code",
      "metadata": {
        "id": "9Lc8WOIZO_12"
      },
      "source": [
        "x = data.values"
      ],
      "execution_count": 432,
      "outputs": []
    },
    {
      "cell_type": "code",
      "metadata": {
        "id": "JtC_VS1oO_12"
      },
      "source": [
        "x_train,x_test,y_train,y_test = train_test_split(x,y,test_size=0.25,random_state=42)"
      ],
      "execution_count": 433,
      "outputs": []
    },
    {
      "cell_type": "markdown",
      "metadata": {
        "id": "jTuB36nllzIi"
      },
      "source": [
        "## Feature Scaling Numerical Features"
      ]
    },
    {
      "cell_type": "code",
      "metadata": {
        "id": "9KyClOZpO_12"
      },
      "source": [
        "sc = StandardScaler()\n",
        "x_train[:,[0,7,8]] = sc.fit_transform(x_train[:,[0,7,8]])"
      ],
      "execution_count": 434,
      "outputs": []
    },
    {
      "cell_type": "code",
      "metadata": {
        "id": "47V0BN84O_12"
      },
      "source": [
        "x_test[:,[0,7,8]] = sc.transform(x_test[:,[0,7,8]])"
      ],
      "execution_count": 435,
      "outputs": []
    },
    {
      "cell_type": "markdown",
      "metadata": {
        "id": "nMCEmMHal6Ak"
      },
      "source": [
        "## Function for Evaluating Model Performance"
      ]
    },
    {
      "cell_type": "code",
      "metadata": {
        "id": "T3ui73wuO_12"
      },
      "source": [
        "def score(y_pred,y_test):\n",
        "    cm = confusion_matrix(y_test,y_pred)\n",
        "    print(cm)\n",
        "    accuracy = accuracy_score(y_test,y_pred)*100\n",
        "    f1 = f1_score(y_test,y_pred)*100\n",
        "    auc = roc_auc_score(y_test,y_pred)*100\n",
        "    print(\"Accuracy Score\", accuracy, \"%\")\n",
        "    print(\"F1 Score\", f1, \"%\")\n",
        "    print(\"ROC_AUC Score\", auc, \"%\")\n",
        "    return (accuracy, auc)"
      ],
      "execution_count": 489,
      "outputs": []
    },
    {
      "cell_type": "markdown",
      "metadata": {
        "id": "dAkhH-O1mB0d"
      },
      "source": [
        "# Models"
      ]
    },
    {
      "cell_type": "markdown",
      "metadata": {
        "id": "45jYcJR8O_12"
      },
      "source": [
        "### Logistic Regression"
      ]
    },
    {
      "cell_type": "code",
      "metadata": {
        "colab": {
          "base_uri": "https://localhost:8080/"
        },
        "id": "DDQztVY-O_12",
        "outputId": "3793ec97-3c98-4516-be02-6e5e1da6fa45"
      },
      "source": [
        "log_classifier = LogisticRegression(random_state=42)\n",
        "log_classifier.fit(x_train,y_train)"
      ],
      "execution_count": 437,
      "outputs": [
        {
          "output_type": "execute_result",
          "data": {
            "text/plain": [
              "LogisticRegression(C=1.0, class_weight=None, dual=False, fit_intercept=True,\n",
              "                   intercept_scaling=1, l1_ratio=None, max_iter=100,\n",
              "                   multi_class='auto', n_jobs=None, penalty='l2',\n",
              "                   random_state=42, solver='lbfgs', tol=0.0001, verbose=0,\n",
              "                   warm_start=False)"
            ]
          },
          "metadata": {
            "tags": []
          },
          "execution_count": 437
        }
      ]
    },
    {
      "cell_type": "code",
      "metadata": {
        "id": "FoBQzECQO_12"
      },
      "source": [
        "y_log_pred = log_classifier.predict(x_test)"
      ],
      "execution_count": 438,
      "outputs": []
    },
    {
      "cell_type": "code",
      "metadata": {
        "colab": {
          "base_uri": "https://localhost:8080/"
        },
        "id": "XyeizxT8O_12",
        "outputId": "a53cf48e-d0d8-4b6b-cbc5-b0a1e9953fe4"
      },
      "source": [
        "lin_acc, lin_auc = score(y_test,y_log_pred)"
      ],
      "execution_count": 490,
      "outputs": [
        {
          "output_type": "stream",
          "text": [
            "[[5883 1517]\n",
            " [ 331  410]]\n",
            "Accuracy Score 77.30008598452278 %\n",
            "F1 Score 30.734632683658177 %\n",
            "ROC_AUC Score 67.41531713900136 %\n"
          ],
          "name": "stdout"
        }
      ]
    },
    {
      "cell_type": "markdown",
      "metadata": {
        "id": "wIBu9BRVO_13"
      },
      "source": [
        "### KNN"
      ]
    },
    {
      "cell_type": "code",
      "metadata": {
        "colab": {
          "base_uri": "https://localhost:8080/"
        },
        "id": "e04RRHOJO_13",
        "outputId": "6e511242-e3d6-41db-83e4-6a1518142c6e"
      },
      "source": [
        "knn_classifier = KNeighborsClassifier(n_neighbors=30)\n",
        "knn_classifier.fit(x_train,y_train)"
      ],
      "execution_count": 440,
      "outputs": [
        {
          "output_type": "execute_result",
          "data": {
            "text/plain": [
              "KNeighborsClassifier(algorithm='auto', leaf_size=30, metric='minkowski',\n",
              "                     metric_params=None, n_jobs=None, n_neighbors=30, p=2,\n",
              "                     weights='uniform')"
            ]
          },
          "metadata": {
            "tags": []
          },
          "execution_count": 440
        }
      ]
    },
    {
      "cell_type": "code",
      "metadata": {
        "id": "kpx-BA08O_13"
      },
      "source": [
        "y_knn_pred = knn_classifier.predict(x_test)"
      ],
      "execution_count": 441,
      "outputs": []
    },
    {
      "cell_type": "code",
      "metadata": {
        "colab": {
          "base_uri": "https://localhost:8080/"
        },
        "id": "qS7KxCJ5O_13",
        "outputId": "e57d50e0-966e-4f3e-8db7-42139e73cd3b"
      },
      "source": [
        "knn_acc, knn_auc = score(y_test,y_knn_pred)"
      ],
      "execution_count": 491,
      "outputs": [
        {
          "output_type": "stream",
          "text": [
            "[[5762  964]\n",
            " [ 452  963]]\n",
            "Accuracy Score 82.60655939073824 %\n",
            "F1 Score 57.63016157989227 %\n",
            "ROC_AUC Score 76.86204791490013 %\n"
          ],
          "name": "stdout"
        }
      ]
    },
    {
      "cell_type": "markdown",
      "metadata": {
        "id": "n-Kcflj8O_13"
      },
      "source": [
        "### SVC Linear"
      ]
    },
    {
      "cell_type": "code",
      "metadata": {
        "colab": {
          "base_uri": "https://localhost:8080/"
        },
        "id": "cMuNCU5kO_13",
        "outputId": "34c9c77c-f294-4844-ef84-0d320a211bf6"
      },
      "source": [
        "svc_classifier = SVC(kernel='linear', random_state=42)\n",
        "svc_classifier.fit(x_train,y_train)"
      ],
      "execution_count": 443,
      "outputs": [
        {
          "output_type": "execute_result",
          "data": {
            "text/plain": [
              "SVC(C=1.0, break_ties=False, cache_size=200, class_weight=None, coef0=0.0,\n",
              "    decision_function_shape='ovr', degree=3, gamma='scale', kernel='linear',\n",
              "    max_iter=-1, probability=False, random_state=42, shrinking=True, tol=0.001,\n",
              "    verbose=False)"
            ]
          },
          "metadata": {
            "tags": []
          },
          "execution_count": 443
        }
      ]
    },
    {
      "cell_type": "code",
      "metadata": {
        "id": "OVYh8Fq3O_13"
      },
      "source": [
        "y_svc_pred = svc_classifier.predict(x_test)"
      ],
      "execution_count": 444,
      "outputs": []
    },
    {
      "cell_type": "code",
      "metadata": {
        "colab": {
          "base_uri": "https://localhost:8080/"
        },
        "id": "dSFJ1zvCO_13",
        "outputId": "db7e23f1-f09e-44f3-ad23-00a94e34012f"
      },
      "source": [
        "svc_acc, svc_auc = score(y_test,y_svc_pred)"
      ],
      "execution_count": 492,
      "outputs": [
        {
          "output_type": "stream",
          "text": [
            "[[6212 1724]\n",
            " [   2  203]]\n",
            "Accuracy Score 78.79867338164844 %\n",
            "F1 Score 19.04315196998124 %\n",
            "ROC_AUC Score 88.65029996066089 %\n"
          ],
          "name": "stdout"
        }
      ]
    },
    {
      "cell_type": "markdown",
      "metadata": {
        "id": "xqHoW_9oO_14"
      },
      "source": [
        "### SVC RBF"
      ]
    },
    {
      "cell_type": "code",
      "metadata": {
        "colab": {
          "base_uri": "https://localhost:8080/"
        },
        "id": "2NsD_8JsO_14",
        "outputId": "0e693c42-376e-4285-fa25-7137c2bccbb0"
      },
      "source": [
        "kernel_classifier = SVC(kernel='rbf', random_state=42)\n",
        "kernel_classifier.fit(x_train,y_train)"
      ],
      "execution_count": 446,
      "outputs": [
        {
          "output_type": "execute_result",
          "data": {
            "text/plain": [
              "SVC(C=1.0, break_ties=False, cache_size=200, class_weight=None, coef0=0.0,\n",
              "    decision_function_shape='ovr', degree=3, gamma='scale', kernel='rbf',\n",
              "    max_iter=-1, probability=False, random_state=42, shrinking=True, tol=0.001,\n",
              "    verbose=False)"
            ]
          },
          "metadata": {
            "tags": []
          },
          "execution_count": 446
        }
      ]
    },
    {
      "cell_type": "code",
      "metadata": {
        "id": "_BSEbl3cO_14"
      },
      "source": [
        "y_kernel_pred = kernel_classifier.predict(x_test)"
      ],
      "execution_count": 447,
      "outputs": []
    },
    {
      "cell_type": "code",
      "metadata": {
        "colab": {
          "base_uri": "https://localhost:8080/"
        },
        "id": "hNtGm6QfO_14",
        "outputId": "5cdfbce6-2d59-4981-bcb9-e7378d34e859"
      },
      "source": [
        "kernel_acc, kernel_auc = score(y_test,y_kernel_pred)"
      ],
      "execution_count": 493,
      "outputs": [
        {
          "output_type": "stream",
          "text": [
            "[[5933 1312]\n",
            " [ 281  615]]\n",
            "Accuracy Score 80.43237931458052 %\n",
            "F1 Score 43.570669500531345 %\n",
            "ROC_AUC Score 75.26467606970326 %\n"
          ],
          "name": "stdout"
        }
      ]
    },
    {
      "cell_type": "markdown",
      "metadata": {
        "id": "z2AZcJOOO_14"
      },
      "source": [
        "### Naive Bayes"
      ]
    },
    {
      "cell_type": "code",
      "metadata": {
        "colab": {
          "base_uri": "https://localhost:8080/"
        },
        "id": "-kXdJsSsO_14",
        "outputId": "d49937ec-cdef-4ec4-f4d9-6dd6adcfb7d7"
      },
      "source": [
        "nb_classifier = GaussianNB()\n",
        "nb_classifier.fit(x_train,y_train)"
      ],
      "execution_count": 449,
      "outputs": [
        {
          "output_type": "execute_result",
          "data": {
            "text/plain": [
              "GaussianNB(priors=None, var_smoothing=1e-09)"
            ]
          },
          "metadata": {
            "tags": []
          },
          "execution_count": 449
        }
      ]
    },
    {
      "cell_type": "code",
      "metadata": {
        "id": "kvgg0eFXO_14"
      },
      "source": [
        "y_nb_pred = nb_classifier.predict(x_test)"
      ],
      "execution_count": 450,
      "outputs": []
    },
    {
      "cell_type": "code",
      "metadata": {
        "colab": {
          "base_uri": "https://localhost:8080/"
        },
        "id": "b3XktdkQO_14",
        "outputId": "17eae8d5-0ce5-45be-ab8d-cda8be00a376"
      },
      "source": [
        "nb_acc, nb_auc = score(y_test,y_nb_pred)"
      ],
      "execution_count": 494,
      "outputs": [
        {
          "output_type": "stream",
          "text": [
            "[[6212 1724]\n",
            " [   2  203]]\n",
            "Accuracy Score 78.79867338164844 %\n",
            "F1 Score 19.04315196998124 %\n",
            "ROC_AUC Score 88.65029996066089 %\n"
          ],
          "name": "stdout"
        }
      ]
    },
    {
      "cell_type": "markdown",
      "metadata": {
        "id": "-cxbRsD2O_14"
      },
      "source": [
        "### Decision Tree"
      ]
    },
    {
      "cell_type": "code",
      "metadata": {
        "colab": {
          "base_uri": "https://localhost:8080/"
        },
        "id": "K6eZQmClO_15",
        "outputId": "2f3c9e70-d18a-481e-da20-b23f245b366d"
      },
      "source": [
        "dt_classifier = DecisionTreeClassifier(criterion='entropy', random_state=42)\n",
        "dt_classifier.fit(x_train,y_train)"
      ],
      "execution_count": 452,
      "outputs": [
        {
          "output_type": "execute_result",
          "data": {
            "text/plain": [
              "DecisionTreeClassifier(ccp_alpha=0.0, class_weight=None, criterion='entropy',\n",
              "                       max_depth=None, max_features=None, max_leaf_nodes=None,\n",
              "                       min_impurity_decrease=0.0, min_impurity_split=None,\n",
              "                       min_samples_leaf=1, min_samples_split=2,\n",
              "                       min_weight_fraction_leaf=0.0, presort='deprecated',\n",
              "                       random_state=42, splitter='best')"
            ]
          },
          "metadata": {
            "tags": []
          },
          "execution_count": 452
        }
      ]
    },
    {
      "cell_type": "code",
      "metadata": {
        "id": "IQUwvGTBO_15"
      },
      "source": [
        "y_dt_pred = dt_classifier.predict(x_test)"
      ],
      "execution_count": 453,
      "outputs": []
    },
    {
      "cell_type": "code",
      "metadata": {
        "colab": {
          "base_uri": "https://localhost:8080/"
        },
        "id": "4JG53jQ_O_15",
        "outputId": "4c5cdbaa-9f01-46b3-9138-d0efb3e015d5"
      },
      "source": [
        "dt_acc, dt_auc = score(y_test,y_dt_pred)"
      ],
      "execution_count": 495,
      "outputs": [
        {
          "output_type": "stream",
          "text": [
            "[[5661  831]\n",
            " [ 553 1096]]\n",
            "Accuracy Score 82.99963149490235 %\n",
            "F1 Score 61.297539149888145 %\n",
            "ROC_AUC Score 76.83207713407218 %\n"
          ],
          "name": "stdout"
        }
      ]
    },
    {
      "cell_type": "markdown",
      "metadata": {
        "id": "M8TQG11-O_15"
      },
      "source": [
        "### Random Forrest"
      ]
    },
    {
      "cell_type": "code",
      "metadata": {
        "colab": {
          "base_uri": "https://localhost:8080/"
        },
        "id": "AbOs5ObZO_15",
        "outputId": "850cc877-5436-4229-d420-0b4f4b96819c"
      },
      "source": [
        "rf_classifier = RandomForestClassifier(criterion='entropy', random_state=42)\n",
        "rf_classifier.fit(x_train,y_train)"
      ],
      "execution_count": 455,
      "outputs": [
        {
          "output_type": "execute_result",
          "data": {
            "text/plain": [
              "RandomForestClassifier(bootstrap=True, ccp_alpha=0.0, class_weight=None,\n",
              "                       criterion='entropy', max_depth=None, max_features='auto',\n",
              "                       max_leaf_nodes=None, max_samples=None,\n",
              "                       min_impurity_decrease=0.0, min_impurity_split=None,\n",
              "                       min_samples_leaf=1, min_samples_split=2,\n",
              "                       min_weight_fraction_leaf=0.0, n_estimators=100,\n",
              "                       n_jobs=None, oob_score=False, random_state=42, verbose=0,\n",
              "                       warm_start=False)"
            ]
          },
          "metadata": {
            "tags": []
          },
          "execution_count": 455
        }
      ]
    },
    {
      "cell_type": "code",
      "metadata": {
        "id": "h6G-023ZO_15"
      },
      "source": [
        "y_rf_pred = rf_classifier.predict(x_test)"
      ],
      "execution_count": 456,
      "outputs": []
    },
    {
      "cell_type": "code",
      "metadata": {
        "colab": {
          "base_uri": "https://localhost:8080/"
        },
        "id": "9F6vJ0faO_15",
        "outputId": "08ce47bc-e90d-454b-f609-b70fb64c5e5b"
      },
      "source": [
        "rf_acc, rf_auc = score(y_test,y_rf_pred)"
      ],
      "execution_count": 496,
      "outputs": [
        {
          "output_type": "stream",
          "text": [
            "[[5684  782]\n",
            " [ 530 1145]]\n",
            "Accuracy Score 83.88404372927158 %\n",
            "F1 Score 63.57579122709607 %\n",
            "ROC_AUC Score 78.13208932141026 %\n"
          ],
          "name": "stdout"
        }
      ]
    },
    {
      "cell_type": "markdown",
      "metadata": {
        "id": "DDuX_QpdO_15"
      },
      "source": [
        "### XGBoost"
      ]
    },
    {
      "cell_type": "code",
      "metadata": {
        "id": "_WM9c3k7O_16"
      },
      "source": [
        "xgb_classifier = xgb.XGBClassifier()"
      ],
      "execution_count": 458,
      "outputs": []
    },
    {
      "cell_type": "code",
      "metadata": {
        "id": "9WtMcdtBO_16"
      },
      "source": [
        "params = {\n",
        "    \"learning_rate\"    : [0.05, 0.10, 0.15, 0.20, 0.25, 0.30 ] ,\n",
        "    \"max_depth\"        : [ 3, 4, 5, 6, 8, 10, 12, 15],\n",
        "    \"min_child_weight\" : [ 1, 3, 5, 7 ],\n",
        "    \"gamma\"            : [ 0.0, 0.1, 0.2 , 0.3, 0.4 ],\n",
        "    \"colsample_bytree\" : [ 0.3, 0.4, 0.5 , 0.7 ]\n",
        "}"
      ],
      "execution_count": 459,
      "outputs": []
    },
    {
      "cell_type": "code",
      "metadata": {
        "id": "mity5UeZO_16"
      },
      "source": [
        "random_search = RandomizedSearchCV(xgb_classifier,param_distributions=params,n_iter=5,scoring='roc_auc',n_jobs=-1,cv=5,verbose=3)"
      ],
      "execution_count": 460,
      "outputs": []
    },
    {
      "cell_type": "code",
      "metadata": {
        "colab": {
          "base_uri": "https://localhost:8080/"
        },
        "id": "YQaFUd7DO_16",
        "outputId": "162cf491-0934-4469-b20b-9845ad15452c"
      },
      "source": [
        "random_search.fit(x_train,y_train)"
      ],
      "execution_count": 461,
      "outputs": [
        {
          "output_type": "stream",
          "text": [
            "Fitting 5 folds for each of 5 candidates, totalling 25 fits\n"
          ],
          "name": "stdout"
        },
        {
          "output_type": "stream",
          "text": [
            "[Parallel(n_jobs=-1)]: Using backend LokyBackend with 2 concurrent workers.\n",
            "[Parallel(n_jobs=-1)]: Done  25 out of  25 | elapsed:   25.0s finished\n"
          ],
          "name": "stderr"
        },
        {
          "output_type": "execute_result",
          "data": {
            "text/plain": [
              "RandomizedSearchCV(cv=5, error_score=nan,\n",
              "                   estimator=XGBClassifier(base_score=0.5, booster='gbtree',\n",
              "                                           colsample_bylevel=1,\n",
              "                                           colsample_bynode=1,\n",
              "                                           colsample_bytree=1, gamma=0,\n",
              "                                           learning_rate=0.1, max_delta_step=0,\n",
              "                                           max_depth=3, min_child_weight=1,\n",
              "                                           missing=None, n_estimators=100,\n",
              "                                           n_jobs=1, nthread=None,\n",
              "                                           objective='binary:logistic',\n",
              "                                           random_state=0, reg_alpha=0,\n",
              "                                           reg_lambda=1, sc...\n",
              "                                           verbosity=1),\n",
              "                   iid='deprecated', n_iter=5, n_jobs=-1,\n",
              "                   param_distributions={'colsample_bytree': [0.3, 0.4, 0.5,\n",
              "                                                             0.7],\n",
              "                                        'gamma': [0.0, 0.1, 0.2, 0.3, 0.4],\n",
              "                                        'learning_rate': [0.05, 0.1, 0.15, 0.2,\n",
              "                                                          0.25, 0.3],\n",
              "                                        'max_depth': [3, 4, 5, 6, 8, 10, 12,\n",
              "                                                      15],\n",
              "                                        'min_child_weight': [1, 3, 5, 7]},\n",
              "                   pre_dispatch='2*n_jobs', random_state=None, refit=True,\n",
              "                   return_train_score=False, scoring='roc_auc', verbose=3)"
            ]
          },
          "metadata": {
            "tags": []
          },
          "execution_count": 461
        }
      ]
    },
    {
      "cell_type": "code",
      "metadata": {
        "colab": {
          "base_uri": "https://localhost:8080/"
        },
        "id": "ErYI5n4HO_16",
        "outputId": "42c30079-89d4-47b0-99f8-6999de69548b"
      },
      "source": [
        "random_search.best_estimator_"
      ],
      "execution_count": 462,
      "outputs": [
        {
          "output_type": "execute_result",
          "data": {
            "text/plain": [
              "XGBClassifier(base_score=0.5, booster='gbtree', colsample_bylevel=1,\n",
              "              colsample_bynode=1, colsample_bytree=0.3, gamma=0.0,\n",
              "              learning_rate=0.15, max_delta_step=0, max_depth=10,\n",
              "              min_child_weight=3, missing=None, n_estimators=100, n_jobs=1,\n",
              "              nthread=None, objective='binary:logistic', random_state=0,\n",
              "              reg_alpha=0, reg_lambda=1, scale_pos_weight=1, seed=None,\n",
              "              silent=None, subsample=1, verbosity=1)"
            ]
          },
          "metadata": {
            "tags": []
          },
          "execution_count": 462
        }
      ]
    },
    {
      "cell_type": "code",
      "metadata": {
        "colab": {
          "base_uri": "https://localhost:8080/"
        },
        "id": "YVbuGPjMO_16",
        "outputId": "21c29c64-0a42-490c-9f87-d7306b3002c2"
      },
      "source": [
        "random_search.best_params_"
      ],
      "execution_count": 463,
      "outputs": [
        {
          "output_type": "execute_result",
          "data": {
            "text/plain": [
              "{'colsample_bytree': 0.3,\n",
              " 'gamma': 0.0,\n",
              " 'learning_rate': 0.15,\n",
              " 'max_depth': 10,\n",
              " 'min_child_weight': 3}"
            ]
          },
          "metadata": {
            "tags": []
          },
          "execution_count": 463
        }
      ]
    },
    {
      "cell_type": "code",
      "metadata": {
        "id": "nfB4DKBtO_16"
      },
      "source": [
        "xgboost_classifier = xgb.XGBClassifier(base_score=0.5, booster='gbtree', colsample_bylevel=1,\n",
        "              colsample_bynode=1, colsample_bytree=0.7, gamma=0.2,\n",
        "              importance_type='gain', interaction_constraints='',\n",
        "              learning_rate=0.2, max_delta_step=0, max_depth=5,\n",
        "              min_child_weight=3,\n",
        "              n_estimators=100, n_jobs=8, num_parallel_tree=1,\n",
        "              objective='binary:logistic', random_state=0, reg_alpha=0,\n",
        "              reg_lambda=1, scale_pos_weight=1, subsample=1,\n",
        "              tree_method='exact', use_label_encoder=True,\n",
        "              validate_parameters=1)"
      ],
      "execution_count": 464,
      "outputs": []
    },
    {
      "cell_type": "code",
      "metadata": {
        "colab": {
          "base_uri": "https://localhost:8080/"
        },
        "id": "oKlRcoyLO_17",
        "outputId": "d2b24244-fa7e-46ed-8a11-04061163e482"
      },
      "source": [
        "xgboost_classifier.fit(x_train,y_train)"
      ],
      "execution_count": 465,
      "outputs": [
        {
          "output_type": "execute_result",
          "data": {
            "text/plain": [
              "XGBClassifier(base_score=0.5, booster='gbtree', colsample_bylevel=1,\n",
              "              colsample_bynode=1, colsample_bytree=0.7, gamma=0.2,\n",
              "              interaction_constraints='', learning_rate=0.2, max_delta_step=0,\n",
              "              max_depth=5, min_child_weight=3, missing=None, n_estimators=100,\n",
              "              n_jobs=8, nthread=None, num_parallel_tree=1,\n",
              "              objective='binary:logistic', random_state=0, reg_alpha=0,\n",
              "              reg_lambda=1, scale_pos_weight=1, seed=None, silent=None,\n",
              "              subsample=1, tree_method='exact', use_label_encoder=True,\n",
              "              validate_parameters=1, verbosity=1)"
            ]
          },
          "metadata": {
            "tags": []
          },
          "execution_count": 465
        }
      ]
    },
    {
      "cell_type": "code",
      "metadata": {
        "id": "rNwd1aaGO_17"
      },
      "source": [
        "y_xgb_pred = xgboost_classifier.predict(x_test)"
      ],
      "execution_count": 466,
      "outputs": []
    },
    {
      "cell_type": "code",
      "metadata": {
        "colab": {
          "base_uri": "https://localhost:8080/"
        },
        "id": "TmVxLaNTO_17",
        "outputId": "8b5de49f-4e73-4eac-a711-d642d3759576"
      },
      "source": [
        "xgb_acc, xgb_auc = score(y_test,y_xgb_pred)"
      ],
      "execution_count": 497,
      "outputs": [
        {
          "output_type": "stream",
          "text": [
            "[[5790  814]\n",
            " [ 424 1113]]\n",
            "Accuracy Score 84.79302297015109 %\n",
            "F1 Score 64.26096997690532 %\n",
            "ROC_AUC Score 80.04396499509178 %\n"
          ],
          "name": "stdout"
        }
      ]
    },
    {
      "cell_type": "code",
      "metadata": {
        "id": "LrOsKTtiO_17"
      },
      "source": [
        "cv_score = cross_val_score(xgboost_classifier,x_train,y_train,cv=10)"
      ],
      "execution_count": 509,
      "outputs": []
    },
    {
      "cell_type": "code",
      "metadata": {
        "colab": {
          "base_uri": "https://localhost:8080/"
        },
        "id": "KKRHx5_QO_17",
        "outputId": "dc8b2c14-4b62-4d7e-942f-ce3cf3768655"
      },
      "source": [
        "cv_score.mean()"
      ],
      "execution_count": 510,
      "outputs": [
        {
          "output_type": "execute_result",
          "data": {
            "text/plain": [
              "0.8401719901719902"
            ]
          },
          "metadata": {
            "tags": []
          },
          "execution_count": 510
        }
      ]
    },
    {
      "cell_type": "markdown",
      "metadata": {
        "id": "VCfuu3DDp1tu"
      },
      "source": [
        "## Comparing Model Performance"
      ]
    },
    {
      "cell_type": "code",
      "metadata": {
        "id": "7W9rar_wp1Qg"
      },
      "source": [
        "model_accuracy = [lin_acc, knn_acc, svc_acc, kernel_acc, nb_acc, dt_acc, rf_acc, xgb_acc]\n",
        "model_auc = [lin_auc, knn_auc, svc_auc, kernel_auc, nb_auc, dt_auc, rf_auc, xgb_auc]\n",
        "models=[\"Logistic Regression\", \"KNN\", \"SVC Linear\", \"SVC Kernel\", \"Naive Bayes\", \"Decision Tree\", \"Random Forrest\", \"XGBoost\"]"
      ],
      "execution_count": 498,
      "outputs": []
    },
    {
      "cell_type": "code",
      "metadata": {
        "colab": {
          "base_uri": "https://localhost:8080/",
          "height": 584
        },
        "id": "5aQz2Ggwp1UY",
        "outputId": "5b793bc5-8531-427b-d0c2-da5be9943caa"
      },
      "source": [
        "plt.figure(figsize=(12,9))\n",
        "ax = sns.barplot(x=models, y=model_accuracy)\n",
        "for p in ax.patches:\n",
        "  height = p.get_height()\n",
        "  ax.text(p.get_x() + p.get_width()/2.,\n",
        "          height + 1,\n",
        "          '{:1.3f}%'.format(height),\n",
        "          ha='center')\n",
        "  \n",
        "plt.ylabel('Model Accuracy')\n",
        "plt.xlabel('Model Name')\n",
        "plt.title('Comparing Model Accuracy(Test Set)')"
      ],
      "execution_count": 523,
      "outputs": [
        {
          "output_type": "execute_result",
          "data": {
            "text/plain": [
              "Text(0.5, 1.0, 'Comparing Model Accuracy(Test Set)')"
            ]
          },
          "metadata": {
            "tags": []
          },
          "execution_count": 523
        },
        {
          "output_type": "display_data",
          "data": {
            "image/png": "[encoded data removed]",
            "text/plain": [
              "<Figure size 864x648 with 1 Axes>"
            ]
          },
          "metadata": {
            "tags": [],
            "needs_background": "light"
          }
        }
      ]
    },
    {
      "cell_type": "code",
      "metadata": {
        "colab": {
          "base_uri": "https://localhost:8080/",
          "height": 584
        },
        "id": "O8JZiTmEsmDY",
        "outputId": "110650d6-9768-4af5-e5d1-7b34a708b178"
      },
      "source": [
        "plt.figure(figsize=(12,9))\n",
        "ax = sns.barplot(x=models, y=model_auc)\n",
        "for p in ax.patches:\n",
        "  height = p.get_height()\n",
        "  ax.text(p.get_x() + p.get_width()/2.,\n",
        "          height + 1,\n",
        "          '{:1.3f}%'.format(height),\n",
        "          ha='center')\n",
        "  \n",
        "plt.ylabel('Model AUC Score')\n",
        "plt.xlabel('Model Name')\n",
        "plt.title('Comparing Model AUC Score(Test Set)')"
      ],
      "execution_count": 524,
      "outputs": [
        {
          "output_type": "execute_result",
          "data": {
            "text/plain": [
              "Text(0.5, 1.0, 'Comparing Model AUC Score(Test Set)')"
            ]
          },
          "metadata": {
            "tags": []
          },
          "execution_count": 524
        },
        {
          "output_type": "display_data",
          "data": {
            "image/png": "[encoded data removed]",
            "text/plain": [
              "<Figure size 864x648 with 1 Axes>"
            ]
          },
          "metadata": {
            "tags": [],
            "needs_background": "light"
          }
        }
      ]
    },
    {
      "cell_type": "markdown",
      "metadata": {
        "id": "iMh3FeMP052S"
      },
      "source": [
        "Since the dataset is imbalanced, AUC score is important as well.\n",
        "\n",
        "XGBoost has the best accuracy. But Naive Bayes and SVC Linear have the best AUC score. Hence we will take these 3 and perform Cross validation to choose the best model."
      ]
    },
    {
      "cell_type": "markdown",
      "metadata": {
        "id": "PnMy-zxF1m9n"
      },
      "source": [
        "## Cross Validation"
      ]
    },
    {
      "cell_type": "markdown",
      "metadata": {
        "id": "21QxWkWA10vR"
      },
      "source": [
        "### Accuracy"
      ]
    },
    {
      "cell_type": "code",
      "metadata": {
        "id": "uIkNR4qZuvBS"
      },
      "source": [
        "svc_cv = cross_val_score(svc_classifier,x_train, y_train, cv=10, scoring='accuracy')\n",
        "nb_cv = cross_val_score(nb_classifier, x_train, y_train, cv=10, scoring='accuracy')\n",
        "xgb_cv = cross_val_score(xgboost_classifier, x_train, y_train, cv=10, scoring='accuracy')"
      ],
      "execution_count": 512,
      "outputs": []
    },
    {
      "cell_type": "code",
      "metadata": {
        "colab": {
          "base_uri": "https://localhost:8080/"
        },
        "id": "_nmHk3H22EsV",
        "outputId": "bacf8f6b-8662-404b-db12-1c94f79d91ea"
      },
      "source": [
        "print(\"Cross Validation Score for SVC Linear Model is: {:1.3f} +- {:1.3f}\".format(svc_cv.mean()*100, svc_cv.std()*100))\n",
        "print(\"Cross Validation Score for Naive Bayes Model is: {:1.3f} +- {:1.3f}\".format(nb_cv.mean()*100, nb_cv.std()*100))\n",
        "print(\"Cross Validation Score for XGBoost Model is: {:1.3f} +- {:1.3f}\".format(xgb_cv.mean()*100, xgb_cv.std()*100))"
      ],
      "execution_count": 521,
      "outputs": [
        {
          "output_type": "stream",
          "text": [
            "Cross Validation Score for SVC Linear Model is: 78.329 +- 0.188\n",
            "Cross Validation Score for Naive Bayes Model is: 78.321 +- 0.197\n",
            "Cross Validation Score for XGBoost Model is: 84.017 +- 0.374\n"
          ],
          "name": "stdout"
        }
      ]
    },
    {
      "cell_type": "markdown",
      "metadata": {
        "id": "oqO3AFNQ2wlT"
      },
      "source": [
        "As expected, XGBoost has the best accuracy out of the three."
      ]
    },
    {
      "cell_type": "markdown",
      "metadata": {
        "id": "F6xRMR0Z20_g"
      },
      "source": [
        "### ROC_AUC"
      ]
    },
    {
      "cell_type": "code",
      "metadata": {
        "id": "7ACVZ2dx23yh"
      },
      "source": [
        "svc_cv_auc = cross_val_score(svc_classifier,x_train, y_train, cv=10, scoring='roc_auc')\n",
        "nb_cv_auc = cross_val_score(nb_classifier, x_train, y_train, cv=10, scoring='roc_auc')\n",
        "xgb_cv_auc = cross_val_score(xgboost_classifier, x_train, y_train, cv=10, scoring='roc_auc')"
      ],
      "execution_count": 514,
      "outputs": []
    },
    {
      "cell_type": "code",
      "metadata": {
        "colab": {
          "base_uri": "https://localhost:8080/"
        },
        "id": "ugijMN193EdY",
        "outputId": "22d63ae2-1f3e-40d9-d743-1aa88043b023"
      },
      "source": [
        "print(\"Cross Validation Score for SVC Linear Model(AUC) is: {:1.3f} +- {:1.3f}\".format(svc_cv_auc.mean()*100, svc_cv_auc.std()*100))\n",
        "print(\"Cross Validation Score for Naive Bayes Model(AUC) is: {:1.3f} +- {:1.3f}\".format(nb_cv_auc.mean()*100, nb_cv_auc.std()*100))\n",
        "print(\"Cross Validation Score for XGBoost Model(AUC) is: {:1.3f} +- {:1.3f}\".format(xgb_cv_auc.mean()*100, xgb_cv_auc.std()*100))"
      ],
      "execution_count": 522,
      "outputs": [
        {
          "output_type": "stream",
          "text": [
            "Cross Validation Score for SVC Linear Model(AUC) is: 79.219 +- 1.052\n",
            "Cross Validation Score for Naive Bayes Model(AUC) is: 83.211 +- 0.513\n",
            "Cross Validation Score for XGBoost Model(AUC) is: 89.645 +- 0.406\n"
          ],
          "name": "stdout"
        }
      ]
    },
    {
      "cell_type": "markdown",
      "metadata": {
        "id": "3aNL5WYw5Owu"
      },
      "source": [
        "Here we see a different result compared to the test set. XGBoost outperforms the other two even with the ROC_AUC score."
      ]
    },
    {
      "cell_type": "markdown",
      "metadata": {
        "id": "C71pBWsq5rW8"
      },
      "source": [
        "# XGBoost is the best model"
      ]
    }
  ]
}